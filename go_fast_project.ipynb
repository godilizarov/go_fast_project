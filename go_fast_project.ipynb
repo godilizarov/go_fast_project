{
 "cells": [
  {
   "cell_type": "markdown",
   "id": "8d47779c",
   "metadata": {},
   "source": []
  },
  {
   "cell_type": "markdown",
   "id": "0f6f2377",
   "metadata": {},
   "source": [
    "# Исследование данных сервиса аренды самокатов GoFast"
   ]
  },
  {
   "cell_type": "markdown",
   "id": "a5abaff2",
   "metadata": {},
   "source": [
    "**Цель исследования**\n",
    "    \n",
    "    1. Определить выгодны ли сервису пользователи с подпиской или без подписки\n",
    "    2. Определить целевую аудиторию сервиса\n",
    "    3. Описать и визуализировать общую информацию о пользователях и поездках\n",
    "    \n",
    "    "
   ]
  },
  {
   "cell_type": "markdown",
   "id": "d43d3768",
   "metadata": {},
   "source": [
    "**Ход исследования**\n",
    "\n",
    "Извлеку данные из 3 файлов, проверю данные оттуда на вбросы, ошибки и дубликаты. Приведу данные к необходимому для анализа виду. Построю гистограммы по длительности и дальности поездок для пользователей с подпиской и без, посмотрим какого возраста пользователи сервиса и проведем несколько тестов для проверки гипотез о  выгоде подписок."
   ]
  },
  {
   "cell_type": "code",
   "execution_count": 1,
   "id": "72576667",
   "metadata": {},
   "outputs": [],
   "source": [
    "import pandas as pd\n",
    "import numpy as np\n",
    "from scipy import stats as st\n",
    "import matplotlib.pyplot as plt"
   ]
  },
  {
   "cell_type": "markdown",
   "id": "c42cbe00",
   "metadata": {},
   "source": [
    "#### Загрузка данных"
   ]
  },
  {
   "cell_type": "code",
   "execution_count": 5,
   "id": "eff9f206",
   "metadata": {},
   "outputs": [],
   "source": [
    "users=pd.read_csv('C:\\\\Users\\\\Huawei\\\\Desktop\\\\users_go.csv')\n",
    "rides=pd.read_csv('C:\\\\Users\\\\Huawei\\\\Desktop\\\\rides_go.csv')\n",
    "subs=pd.read_csv('C:\\\\Users\\\\Huawei\\\\Desktop\\\\subscriptions_go.csv')"
   ]
  },
  {
   "cell_type": "code",
   "execution_count": 6,
   "id": "fbc59a8d",
   "metadata": {},
   "outputs": [
    {
     "data": {
      "text/html": [
       "<div>\n",
       "<style scoped>\n",
       "    .dataframe tbody tr th:only-of-type {\n",
       "        vertical-align: middle;\n",
       "    }\n",
       "\n",
       "    .dataframe tbody tr th {\n",
       "        vertical-align: top;\n",
       "    }\n",
       "\n",
       "    .dataframe thead th {\n",
       "        text-align: right;\n",
       "    }\n",
       "</style>\n",
       "<table border=\"1\" class=\"dataframe\">\n",
       "  <thead>\n",
       "    <tr style=\"text-align: right;\">\n",
       "      <th></th>\n",
       "      <th>user_id</th>\n",
       "      <th>name</th>\n",
       "      <th>age</th>\n",
       "      <th>city</th>\n",
       "      <th>subscription_type</th>\n",
       "    </tr>\n",
       "  </thead>\n",
       "  <tbody>\n",
       "    <tr>\n",
       "      <th>0</th>\n",
       "      <td>1</td>\n",
       "      <td>Кира</td>\n",
       "      <td>22</td>\n",
       "      <td>Тюмень</td>\n",
       "      <td>ultra</td>\n",
       "    </tr>\n",
       "    <tr>\n",
       "      <th>1</th>\n",
       "      <td>2</td>\n",
       "      <td>Станислав</td>\n",
       "      <td>31</td>\n",
       "      <td>Омск</td>\n",
       "      <td>ultra</td>\n",
       "    </tr>\n",
       "    <tr>\n",
       "      <th>2</th>\n",
       "      <td>3</td>\n",
       "      <td>Алексей</td>\n",
       "      <td>20</td>\n",
       "      <td>Москва</td>\n",
       "      <td>ultra</td>\n",
       "    </tr>\n",
       "    <tr>\n",
       "      <th>3</th>\n",
       "      <td>4</td>\n",
       "      <td>Константин</td>\n",
       "      <td>26</td>\n",
       "      <td>Ростов-на-Дону</td>\n",
       "      <td>ultra</td>\n",
       "    </tr>\n",
       "    <tr>\n",
       "      <th>4</th>\n",
       "      <td>5</td>\n",
       "      <td>Адель</td>\n",
       "      <td>28</td>\n",
       "      <td>Омск</td>\n",
       "      <td>ultra</td>\n",
       "    </tr>\n",
       "  </tbody>\n",
       "</table>\n",
       "</div>"
      ],
      "text/plain": [
       "   user_id        name  age            city subscription_type\n",
       "0        1        Кира   22          Тюмень             ultra\n",
       "1        2   Станислав   31            Омск             ultra\n",
       "2        3     Алексей   20          Москва             ultra\n",
       "3        4  Константин   26  Ростов-на-Дону             ultra\n",
       "4        5       Адель   28            Омск             ultra"
      ]
     },
     "execution_count": 6,
     "metadata": {},
     "output_type": "execute_result"
    }
   ],
   "source": [
    "users.head()"
   ]
  },
  {
   "cell_type": "code",
   "execution_count": 7,
   "id": "13fabd4e",
   "metadata": {},
   "outputs": [
    {
     "data": {
      "text/html": [
       "<div>\n",
       "<style scoped>\n",
       "    .dataframe tbody tr th:only-of-type {\n",
       "        vertical-align: middle;\n",
       "    }\n",
       "\n",
       "    .dataframe tbody tr th {\n",
       "        vertical-align: top;\n",
       "    }\n",
       "\n",
       "    .dataframe thead th {\n",
       "        text-align: right;\n",
       "    }\n",
       "</style>\n",
       "<table border=\"1\" class=\"dataframe\">\n",
       "  <thead>\n",
       "    <tr style=\"text-align: right;\">\n",
       "      <th></th>\n",
       "      <th>user_id</th>\n",
       "      <th>distance</th>\n",
       "      <th>duration</th>\n",
       "      <th>date</th>\n",
       "    </tr>\n",
       "  </thead>\n",
       "  <tbody>\n",
       "    <tr>\n",
       "      <th>0</th>\n",
       "      <td>1</td>\n",
       "      <td>4409.919140</td>\n",
       "      <td>25.599769</td>\n",
       "      <td>2021-01-01</td>\n",
       "    </tr>\n",
       "    <tr>\n",
       "      <th>1</th>\n",
       "      <td>1</td>\n",
       "      <td>2617.592153</td>\n",
       "      <td>15.816871</td>\n",
       "      <td>2021-01-18</td>\n",
       "    </tr>\n",
       "    <tr>\n",
       "      <th>2</th>\n",
       "      <td>1</td>\n",
       "      <td>754.159807</td>\n",
       "      <td>6.232113</td>\n",
       "      <td>2021-04-20</td>\n",
       "    </tr>\n",
       "    <tr>\n",
       "      <th>3</th>\n",
       "      <td>1</td>\n",
       "      <td>2694.783254</td>\n",
       "      <td>18.511000</td>\n",
       "      <td>2021-08-11</td>\n",
       "    </tr>\n",
       "    <tr>\n",
       "      <th>4</th>\n",
       "      <td>1</td>\n",
       "      <td>4028.687306</td>\n",
       "      <td>26.265803</td>\n",
       "      <td>2021-08-28</td>\n",
       "    </tr>\n",
       "  </tbody>\n",
       "</table>\n",
       "</div>"
      ],
      "text/plain": [
       "   user_id     distance   duration        date\n",
       "0        1  4409.919140  25.599769  2021-01-01\n",
       "1        1  2617.592153  15.816871  2021-01-18\n",
       "2        1   754.159807   6.232113  2021-04-20\n",
       "3        1  2694.783254  18.511000  2021-08-11\n",
       "4        1  4028.687306  26.265803  2021-08-28"
      ]
     },
     "execution_count": 7,
     "metadata": {},
     "output_type": "execute_result"
    }
   ],
   "source": [
    "rides.head()"
   ]
  },
  {
   "cell_type": "code",
   "execution_count": 8,
   "id": "e122e51c",
   "metadata": {},
   "outputs": [
    {
     "data": {
      "text/html": [
       "<div>\n",
       "<style scoped>\n",
       "    .dataframe tbody tr th:only-of-type {\n",
       "        vertical-align: middle;\n",
       "    }\n",
       "\n",
       "    .dataframe tbody tr th {\n",
       "        vertical-align: top;\n",
       "    }\n",
       "\n",
       "    .dataframe thead th {\n",
       "        text-align: right;\n",
       "    }\n",
       "</style>\n",
       "<table border=\"1\" class=\"dataframe\">\n",
       "  <thead>\n",
       "    <tr style=\"text-align: right;\">\n",
       "      <th></th>\n",
       "      <th>subscription_type</th>\n",
       "      <th>minute_price</th>\n",
       "      <th>start_ride_price</th>\n",
       "      <th>subscription_fee</th>\n",
       "    </tr>\n",
       "  </thead>\n",
       "  <tbody>\n",
       "    <tr>\n",
       "      <th>0</th>\n",
       "      <td>free</td>\n",
       "      <td>8</td>\n",
       "      <td>50</td>\n",
       "      <td>0</td>\n",
       "    </tr>\n",
       "    <tr>\n",
       "      <th>1</th>\n",
       "      <td>ultra</td>\n",
       "      <td>6</td>\n",
       "      <td>0</td>\n",
       "      <td>199</td>\n",
       "    </tr>\n",
       "  </tbody>\n",
       "</table>\n",
       "</div>"
      ],
      "text/plain": [
       "  subscription_type  minute_price  start_ride_price  subscription_fee\n",
       "0              free             8                50                 0\n",
       "1             ultra             6                 0               199"
      ]
     },
     "execution_count": 8,
     "metadata": {},
     "output_type": "execute_result"
    }
   ],
   "source": [
    "subs.head(10)"
   ]
  },
  {
   "cell_type": "code",
   "execution_count": 9,
   "id": "797c0739",
   "metadata": {},
   "outputs": [
    {
     "name": "stdout",
     "output_type": "stream",
     "text": [
      "<class 'pandas.core.frame.DataFrame'>\n",
      "RangeIndex: 1565 entries, 0 to 1564\n",
      "Data columns (total 5 columns):\n",
      " #   Column             Non-Null Count  Dtype \n",
      "---  ------             --------------  ----- \n",
      " 0   user_id            1565 non-null   int64 \n",
      " 1   name               1565 non-null   object\n",
      " 2   age                1565 non-null   int64 \n",
      " 3   city               1565 non-null   object\n",
      " 4   subscription_type  1565 non-null   object\n",
      "dtypes: int64(2), object(3)\n",
      "memory usage: 61.3+ KB\n"
     ]
    }
   ],
   "source": [
    "users.info()"
   ]
  },
  {
   "cell_type": "code",
   "execution_count": 10,
   "id": "089c8808",
   "metadata": {},
   "outputs": [
    {
     "name": "stdout",
     "output_type": "stream",
     "text": [
      "<class 'pandas.core.frame.DataFrame'>\n",
      "RangeIndex: 18068 entries, 0 to 18067\n",
      "Data columns (total 4 columns):\n",
      " #   Column    Non-Null Count  Dtype  \n",
      "---  ------    --------------  -----  \n",
      " 0   user_id   18068 non-null  int64  \n",
      " 1   distance  18068 non-null  float64\n",
      " 2   duration  18068 non-null  float64\n",
      " 3   date      18068 non-null  object \n",
      "dtypes: float64(2), int64(1), object(1)\n",
      "memory usage: 564.8+ KB\n"
     ]
    }
   ],
   "source": [
    "rides.info()"
   ]
  },
  {
   "cell_type": "code",
   "execution_count": 11,
   "id": "0a2954c7",
   "metadata": {},
   "outputs": [
    {
     "name": "stdout",
     "output_type": "stream",
     "text": [
      "<class 'pandas.core.frame.DataFrame'>\n",
      "RangeIndex: 2 entries, 0 to 1\n",
      "Data columns (total 4 columns):\n",
      " #   Column             Non-Null Count  Dtype \n",
      "---  ------             --------------  ----- \n",
      " 0   subscription_type  2 non-null      object\n",
      " 1   minute_price       2 non-null      int64 \n",
      " 2   start_ride_price   2 non-null      int64 \n",
      " 3   subscription_fee   2 non-null      int64 \n",
      "dtypes: int64(3), object(1)\n",
      "memory usage: 196.0+ bytes\n"
     ]
    }
   ],
   "source": [
    "subs.info()"
   ]
  },
  {
   "cell_type": "markdown",
   "id": "c0e5b3b5",
   "metadata": {},
   "source": [
    "**ВЫВОД:** Получили 3 датафрейма, которые можно объединить. Первые два по ключу user_id, а с 3 по subscription_type. В первом датафрейме содержится основная информация о пользователях, во втором о каждой их поездке, а в 3 информация о типах подписок и тарифах.</div>"
   ]
  },
  {
   "cell_type": "markdown",
   "id": "e95ebca7",
   "metadata": {},
   "source": [
    "#### Предобработка данных"
   ]
  },
  {
   "cell_type": "markdown",
   "id": "a321a77a",
   "metadata": {},
   "source": [
    "Приведем столбец date к нужному типу pandas, создадим столбец month и проверим результат. "
   ]
  },
  {
   "cell_type": "code",
   "execution_count": 12,
   "id": "af6d202c",
   "metadata": {},
   "outputs": [
    {
     "data": {
      "text/html": [
       "<div>\n",
       "<style scoped>\n",
       "    .dataframe tbody tr th:only-of-type {\n",
       "        vertical-align: middle;\n",
       "    }\n",
       "\n",
       "    .dataframe tbody tr th {\n",
       "        vertical-align: top;\n",
       "    }\n",
       "\n",
       "    .dataframe thead th {\n",
       "        text-align: right;\n",
       "    }\n",
       "</style>\n",
       "<table border=\"1\" class=\"dataframe\">\n",
       "  <thead>\n",
       "    <tr style=\"text-align: right;\">\n",
       "      <th></th>\n",
       "      <th>user_id</th>\n",
       "      <th>distance</th>\n",
       "      <th>duration</th>\n",
       "      <th>date</th>\n",
       "      <th>month</th>\n",
       "    </tr>\n",
       "  </thead>\n",
       "  <tbody>\n",
       "    <tr>\n",
       "      <th>0</th>\n",
       "      <td>1</td>\n",
       "      <td>4409.919140</td>\n",
       "      <td>25.599769</td>\n",
       "      <td>2021-01-01</td>\n",
       "      <td>1</td>\n",
       "    </tr>\n",
       "    <tr>\n",
       "      <th>1</th>\n",
       "      <td>1</td>\n",
       "      <td>2617.592153</td>\n",
       "      <td>15.816871</td>\n",
       "      <td>2021-01-18</td>\n",
       "      <td>1</td>\n",
       "    </tr>\n",
       "    <tr>\n",
       "      <th>2</th>\n",
       "      <td>1</td>\n",
       "      <td>754.159807</td>\n",
       "      <td>6.232113</td>\n",
       "      <td>2021-04-20</td>\n",
       "      <td>4</td>\n",
       "    </tr>\n",
       "    <tr>\n",
       "      <th>3</th>\n",
       "      <td>1</td>\n",
       "      <td>2694.783254</td>\n",
       "      <td>18.511000</td>\n",
       "      <td>2021-08-11</td>\n",
       "      <td>8</td>\n",
       "    </tr>\n",
       "    <tr>\n",
       "      <th>4</th>\n",
       "      <td>1</td>\n",
       "      <td>4028.687306</td>\n",
       "      <td>26.265803</td>\n",
       "      <td>2021-08-28</td>\n",
       "      <td>8</td>\n",
       "    </tr>\n",
       "  </tbody>\n",
       "</table>\n",
       "</div>"
      ],
      "text/plain": [
       "   user_id     distance   duration       date  month\n",
       "0        1  4409.919140  25.599769 2021-01-01      1\n",
       "1        1  2617.592153  15.816871 2021-01-18      1\n",
       "2        1   754.159807   6.232113 2021-04-20      4\n",
       "3        1  2694.783254  18.511000 2021-08-11      8\n",
       "4        1  4028.687306  26.265803 2021-08-28      8"
      ]
     },
     "execution_count": 12,
     "metadata": {},
     "output_type": "execute_result"
    }
   ],
   "source": [
    "rides['date'] = pd.to_datetime(rides['date'], format='%Y-%m-%d')\n",
    "rides['month'] = pd.DatetimeIndex(rides['date']).month\n",
    "rides.head()"
   ]
  },
  {
   "cell_type": "markdown",
   "id": "72e135b4",
   "metadata": {},
   "source": [
    "Посмотрим какие есть пропущенные значения"
   ]
  },
  {
   "cell_type": "code",
   "execution_count": 13,
   "id": "3afecd40",
   "metadata": {},
   "outputs": [
    {
     "data": {
      "text/plain": [
       "user_id              0\n",
       "name                 0\n",
       "age                  0\n",
       "city                 0\n",
       "subscription_type    0\n",
       "dtype: int64"
      ]
     },
     "execution_count": 13,
     "metadata": {},
     "output_type": "execute_result"
    }
   ],
   "source": [
    "users.isna().sum().sort_values()"
   ]
  },
  {
   "cell_type": "code",
   "execution_count": 14,
   "id": "19ce4722",
   "metadata": {},
   "outputs": [
    {
     "data": {
      "text/plain": [
       "user_id     0\n",
       "distance    0\n",
       "duration    0\n",
       "date        0\n",
       "month       0\n",
       "dtype: int64"
      ]
     },
     "execution_count": 14,
     "metadata": {},
     "output_type": "execute_result"
    }
   ],
   "source": [
    "rides.isna().sum().sort_values()"
   ]
  },
  {
   "cell_type": "code",
   "execution_count": 15,
   "id": "14dc184f",
   "metadata": {},
   "outputs": [
    {
     "data": {
      "text/plain": [
       "subscription_type    0\n",
       "minute_price         0\n",
       "start_ride_price     0\n",
       "subscription_fee     0\n",
       "dtype: int64"
      ]
     },
     "execution_count": 15,
     "metadata": {},
     "output_type": "execute_result"
    }
   ],
   "source": [
    "subs.isna().sum().sort_values()"
   ]
  },
  {
   "cell_type": "markdown",
   "id": "4b0692c6",
   "metadata": {},
   "source": [
    "И проверим дубликаты"
   ]
  },
  {
   "cell_type": "code",
   "execution_count": 16,
   "id": "811d6c45",
   "metadata": {},
   "outputs": [
    {
     "data": {
      "text/plain": [
       "31"
      ]
     },
     "execution_count": 16,
     "metadata": {},
     "output_type": "execute_result"
    }
   ],
   "source": [
    "users.duplicated().sum()"
   ]
  },
  {
   "cell_type": "code",
   "execution_count": 17,
   "id": "b34efa5d",
   "metadata": {},
   "outputs": [
    {
     "data": {
      "text/plain": [
       "0"
      ]
     },
     "execution_count": 17,
     "metadata": {},
     "output_type": "execute_result"
    }
   ],
   "source": [
    "rides.duplicated().sum()"
   ]
  },
  {
   "cell_type": "code",
   "execution_count": 18,
   "id": "46875488",
   "metadata": {},
   "outputs": [
    {
     "data": {
      "text/plain": [
       "0"
      ]
     },
     "execution_count": 18,
     "metadata": {},
     "output_type": "execute_result"
    }
   ],
   "source": [
    "subs.duplicated().sum()"
   ]
  },
  {
   "cell_type": "markdown",
   "id": "de7d2933",
   "metadata": {},
   "source": [
    "Удалим явные дубликаты из таблицы users и проверим результат."
   ]
  },
  {
   "cell_type": "code",
   "execution_count": 19,
   "id": "7e98fb1f",
   "metadata": {},
   "outputs": [
    {
     "data": {
      "text/plain": [
       "0"
      ]
     },
     "execution_count": 19,
     "metadata": {},
     "output_type": "execute_result"
    }
   ],
   "source": [
    "users=users.drop_duplicates()\n",
    "users.duplicated().sum()"
   ]
  },
  {
   "cell_type": "markdown",
   "id": "e9434031",
   "metadata": {},
   "source": [
    "**Вывод**: В данных было обнаружено 31 явных дубликатов, от которых было просто избавиться.Пропущенных значений не было. Значит можно дальше работать с данными без потерии качества анализа."
   ]
  },
  {
   "cell_type": "markdown",
   "id": "212593c7",
   "metadata": {},
   "source": [
    "#### Исследовательский анализ данных"
   ]
  },
  {
   "cell_type": "markdown",
   "id": "603be97d",
   "metadata": {},
   "source": [
    "##### Частота встречаемости городов"
   ]
  },
  {
   "cell_type": "code",
   "execution_count": 20,
   "id": "ab4e67b7",
   "metadata": {},
   "outputs": [
    {
     "data": {
      "text/plain": [
       "['Екатеринбург',\n",
       " 'Краснодар',\n",
       " 'Москва',\n",
       " 'Омск',\n",
       " 'Пятигорск',\n",
       " 'Ростов-на-Дону',\n",
       " 'Сочи',\n",
       " 'Тюмень']"
      ]
     },
     "execution_count": 20,
     "metadata": {},
     "output_type": "execute_result"
    }
   ],
   "source": [
    "sorted(users['city'].unique())"
   ]
  },
  {
   "cell_type": "code",
   "execution_count": 21,
   "id": "6868348e",
   "metadata": {},
   "outputs": [
    {
     "data": {
      "text/plain": [
       "city\n",
       "Пятигорск         219\n",
       "Екатеринбург      204\n",
       "Ростов-на-Дону    198\n",
       "Краснодар         193\n",
       "Сочи              189\n",
       "Омск              183\n",
       "Тюмень            180\n",
       "Москва            168\n",
       "Name: count, dtype: int64"
      ]
     },
     "execution_count": 21,
     "metadata": {},
     "output_type": "execute_result"
    }
   ],
   "source": [
    "users['city'].value_counts()"
   ]
  },
  {
   "cell_type": "code",
   "execution_count": 22,
   "id": "e71f0861",
   "metadata": {},
   "outputs": [
    {
     "data": {
      "text/plain": [
       "<Axes: title={'center': 'Частота встречаемости городов среди пользователей сервиса GoFast'}, xlabel='Город', ylabel='Количество пользоавтелей'>"
      ]
     },
     "execution_count": 22,
     "metadata": {},
     "output_type": "execute_result"
    },
    {
     "data": {
      "image/png": "[encoded data removed]",
      "text/plain": [
       "<Figure size 1600x900 with 1 Axes>"
      ]
     },
     "metadata": {},
     "output_type": "display_data"
    }
   ],
   "source": [
    "users['city'].value_counts().plot(kind='barh', figsize=(16,9), xlabel='Город', ylabel='Количество пользоавтелей', title='Частота встречаемости городов среди пользователей сервиса GoFast')"
   ]
  },
  {
   "cell_type": "markdown",
   "id": "753b65bb",
   "metadata": {},
   "source": [
    "**ВЫВОД:** Таким образом, мы видим, что сервисом пользуются в 8 городах. И наибольшее количество пользователей в Пятигорске, в то время как наименшее в Москве."
   ]
  },
  {
   "cell_type": "markdown",
   "id": "e01bd419",
   "metadata": {},
   "source": [
    "##### Соотношение пользователей с подпиской и без подписки;"
   ]
  },
  {
   "cell_type": "markdown",
   "id": "a674fbf0",
   "metadata": {},
   "source": [
    "Посмотрим общее количество пользователей с подпиской и без"
   ]
  },
  {
   "cell_type": "code",
   "execution_count": 23,
   "id": "8ce133a8",
   "metadata": {},
   "outputs": [
    {
     "data": {
      "text/plain": [
       "subscription_type\n",
       "free     835\n",
       "ultra    699\n",
       "Name: count, dtype: int64"
      ]
     },
     "execution_count": 23,
     "metadata": {},
     "output_type": "execute_result"
    }
   ],
   "source": [
    "users['subscription_type'].value_counts()"
   ]
  },
  {
   "cell_type": "code",
   "execution_count": 24,
   "id": "57001988",
   "metadata": {},
   "outputs": [
    {
     "data": {
      "text/plain": [
       "subscription_type\n",
       "free     54.4\n",
       "ultra    45.6\n",
       "Name: proportion, dtype: float64"
      ]
     },
     "execution_count": 24,
     "metadata": {},
     "output_type": "execute_result"
    }
   ],
   "source": [
    "users.subscription_type.value_counts(normalize=True).mul(100).round(1)"
   ]
  },
  {
   "cell_type": "code",
   "execution_count": 25,
   "id": "8e7ac8da",
   "metadata": {
    "scrolled": false
   },
   "outputs": [
    {
     "data": {
      "text/plain": [
       "<Axes: title={'center': 'Пользователи с подпиской и без'}, ylabel='count'>"
      ]
     },
     "execution_count": 25,
     "metadata": {},
     "output_type": "execute_result"
    },
    {
     "data": {
      "image/png": "[encoded data removed]",
      "text/plain": [
       "<Figure size 1600x900 with 1 Axes>"
      ]
     },
     "metadata": {},
     "output_type": "display_data"
    }
   ],
   "source": [
    "users['subscription_type'].value_counts().plot(kind='pie', figsize=(16,9), autopct='%1.0f%%', title='Пользователи с подпиской и без')"
   ]
  },
  {
   "cell_type": "markdown",
   "id": "198281ad",
   "metadata": {},
   "source": [
    "**ВЫВОД:** Как мы видим большинство людей пользуются сервисом без подписки, хотя разница и не совсем большая."
   ]
  },
  {
   "cell_type": "markdown",
   "id": "0356af1a",
   "metadata": {},
   "source": [
    "##### Возраст пользователей"
   ]
  },
  {
   "cell_type": "markdown",
   "id": "c72d15b6",
   "metadata": {},
   "source": [
    "Выведем все возрасты пользователей, процентное соотношение к общему кол-ву пользователей и средний возраст пользователя."
   ]
  },
  {
   "cell_type": "code",
   "execution_count": 26,
   "id": "ffdca0dc",
   "metadata": {},
   "outputs": [
    {
     "data": {
      "text/plain": [
       "age\n",
       "25    145\n",
       "24    132\n",
       "26    131\n",
       "23    129\n",
       "22    119\n",
       "27    119\n",
       "28    112\n",
       "21     93\n",
       "20     71\n",
       "30     68\n",
       "29     68\n",
       "31     48\n",
       "19     47\n",
       "18     46\n",
       "32     41\n",
       "33     39\n",
       "17     26\n",
       "16     19\n",
       "34     19\n",
       "35     15\n",
       "15     13\n",
       "14      9\n",
       "13      8\n",
       "36      6\n",
       "12      4\n",
       "38      3\n",
       "37      2\n",
       "39      1\n",
       "43      1\n",
       "Name: count, dtype: int64"
      ]
     },
     "execution_count": 26,
     "metadata": {},
     "output_type": "execute_result"
    }
   ],
   "source": [
    "users['age'].value_counts()"
   ]
  },
  {
   "cell_type": "code",
   "execution_count": 27,
   "id": "a6542749",
   "metadata": {},
   "outputs": [
    {
     "data": {
      "text/plain": [
       "age\n",
       "25    9.5\n",
       "24    8.6\n",
       "26    8.5\n",
       "23    8.4\n",
       "22    7.8\n",
       "27    7.8\n",
       "28    7.3\n",
       "21    6.1\n",
       "20    4.6\n",
       "30    4.4\n",
       "29    4.4\n",
       "31    3.1\n",
       "19    3.1\n",
       "18    3.0\n",
       "32    2.7\n",
       "33    2.5\n",
       "17    1.7\n",
       "16    1.2\n",
       "34    1.2\n",
       "35    1.0\n",
       "15    0.8\n",
       "14    0.6\n",
       "13    0.5\n",
       "36    0.4\n",
       "12    0.3\n",
       "38    0.2\n",
       "37    0.1\n",
       "39    0.1\n",
       "43    0.1\n",
       "Name: proportion, dtype: object"
      ]
     },
     "execution_count": 27,
     "metadata": {},
     "output_type": "execute_result"
    }
   ],
   "source": [
    "users.age.value_counts(normalize=True).mul(100).round(1).astype(str)"
   ]
  },
  {
   "cell_type": "code",
   "execution_count": 28,
   "id": "1c7af27b",
   "metadata": {},
   "outputs": [
    {
     "data": {
      "text/plain": [
       "count    1534.000000\n",
       "mean       24.903520\n",
       "std         4.572367\n",
       "min        12.000000\n",
       "25%        22.000000\n",
       "50%        25.000000\n",
       "75%        28.000000\n",
       "max        43.000000\n",
       "Name: age, dtype: float64"
      ]
     },
     "execution_count": 28,
     "metadata": {},
     "output_type": "execute_result"
    }
   ],
   "source": [
    "users['age'].describe()"
   ]
  },
  {
   "cell_type": "code",
   "execution_count": 29,
   "id": "078f42e6",
   "metadata": {
    "scrolled": false
   },
   "outputs": [
    {
     "data": {
      "text/plain": [
       "Text(0.5, 1.0, 'Возраста пользователей')"
      ]
     },
     "execution_count": 29,
     "metadata": {},
     "output_type": "execute_result"
    },
    {
     "data": {
      "image/png": "[encoded data removed]",
      "text/plain": [
       "<Figure size 1600x900 with 1 Axes>"
      ]
     },
     "metadata": {},
     "output_type": "display_data"
    }
   ],
   "source": [
    "users['age'].hist(bins=15, figsize=(16,9))\n",
    "plt.xlabel(\"Возраст\", fontsize=13)\n",
    "plt.ylabel(\"Частота встречаемости\", fontsize=13)\n",
    "plt.title('Возраста пользователей',fontsize=25,fontweight='bold', pad=20)"
   ]
  },
  {
   "cell_type": "markdown",
   "id": "6de792fb",
   "metadata": {},
   "source": [
    "**ОПИСАНИЕ:** Результат похож на нормальное распределение. Возрасты пользователей лежат в диапозоне от 12 до 43 лет. Средний возраст пользовател 25 лет. Аномалий обнаружено не было."
   ]
  },
  {
   "cell_type": "markdown",
   "id": "abfd799b",
   "metadata": {},
   "source": [
    "##### Расстояние, которое пользователь преодолел за одну поездку"
   ]
  },
  {
   "cell_type": "code",
   "execution_count": 30,
   "id": "bd0e3ab0",
   "metadata": {},
   "outputs": [
    {
     "data": {
      "text/plain": [
       "Text(0.5, 1.0, 'Расстояние за одну поездку')"
      ]
     },
     "execution_count": 30,
     "metadata": {},
     "output_type": "execute_result"
    },
    {
     "data": {
      "image/png": "[encoded data removed]",
      "text/plain": [
       "<Figure size 1600x900 with 1 Axes>"
      ]
     },
     "metadata": {},
     "output_type": "display_data"
    }
   ],
   "source": [
    "rides['distance'].hist(bins = 30, grid=True, figsize=(16,9))\n",
    "plt.xlabel(\"Расстояние\", fontsize=13)\n",
    "plt.ylabel(\"Частота встречаемости\", fontsize=13)\n",
    "plt.title('Расстояние за одну поездку',fontsize=25,fontweight='bold', pad=20)"
   ]
  },
  {
   "cell_type": "code",
   "execution_count": 31,
   "id": "b06b9d3b",
   "metadata": {},
   "outputs": [
    {
     "data": {
      "text/plain": [
       "count    18068.000000\n",
       "mean      3070.659976\n",
       "std       1116.831209\n",
       "min          0.855683\n",
       "25%       2543.226360\n",
       "50%       3133.609994\n",
       "75%       3776.222735\n",
       "max       7211.007745\n",
       "Name: distance, dtype: float64"
      ]
     },
     "execution_count": 31,
     "metadata": {},
     "output_type": "execute_result"
    }
   ],
   "source": [
    "rides['distance'].describe()"
   ]
  },
  {
   "cell_type": "markdown",
   "id": "b7dec6e3",
   "metadata": {},
   "source": [
    "**Вывод:** Мы видим, что средняя продолжительность поездки составляет от 2543 м до 3776 м."
   ]
  },
  {
   "cell_type": "markdown",
   "id": "dcd6327e",
   "metadata": {},
   "source": [
    "##### Продолжительность поездок\n"
   ]
  },
  {
   "cell_type": "code",
   "execution_count": 32,
   "id": "2506dba9",
   "metadata": {
    "scrolled": false
   },
   "outputs": [
    {
     "data": {
      "text/plain": [
       "Text(0.5, 1.0, 'Продолжительность поездок')"
      ]
     },
     "execution_count": 32,
     "metadata": {},
     "output_type": "execute_result"
    },
    {
     "data": {
      "image/png": "[encoded data removed]",
      "text/plain": [
       "<Figure size 1600x900 with 1 Axes>"
      ]
     },
     "metadata": {},
     "output_type": "display_data"
    }
   ],
   "source": [
    "rides['duration'].hist(bins=30, figsize=(16,9))\n",
    "plt.xlabel(\"Время\", fontsize=13)\n",
    "plt.ylabel(\"Частота встречаемости\", fontsize=13)\n",
    "plt.title('Продолжительность поездок',fontsize=25,fontweight='bold', pad=20)"
   ]
  },
  {
   "cell_type": "code",
   "execution_count": 33,
   "id": "237c70c2",
   "metadata": {
    "scrolled": true
   },
   "outputs": [
    {
     "data": {
      "text/plain": [
       "count    18068.000000\n",
       "mean        17.805011\n",
       "std          6.091051\n",
       "min          0.500000\n",
       "25%         13.597563\n",
       "50%         17.678395\n",
       "75%         21.724800\n",
       "max         40.823963\n",
       "Name: duration, dtype: float64"
      ]
     },
     "execution_count": 33,
     "metadata": {},
     "output_type": "execute_result"
    }
   ],
   "source": [
    "rides['duration'].describe()"
   ]
  },
  {
   "cell_type": "markdown",
   "id": "af66815c",
   "metadata": {},
   "source": [
    "**Вывод:** Cредняя продолжительность поездки составляет от 13,6 до 21,7 минут. "
   ]
  },
  {
   "cell_type": "markdown",
   "id": "4ef51331",
   "metadata": {},
   "source": [
    "#### Объединение данных"
   ]
  },
  {
   "cell_type": "markdown",
   "id": "32b528b5",
   "metadata": {},
   "source": [
    "Проверим размеры датасетов до объединения."
   ]
  },
  {
   "cell_type": "code",
   "execution_count": 34,
   "id": "c976579e",
   "metadata": {},
   "outputs": [
    {
     "name": "stdout",
     "output_type": "stream",
     "text": [
      "<class 'pandas.core.frame.DataFrame'>\n",
      "Index: 1534 entries, 0 to 1533\n",
      "Data columns (total 5 columns):\n",
      " #   Column             Non-Null Count  Dtype \n",
      "---  ------             --------------  ----- \n",
      " 0   user_id            1534 non-null   int64 \n",
      " 1   name               1534 non-null   object\n",
      " 2   age                1534 non-null   int64 \n",
      " 3   city               1534 non-null   object\n",
      " 4   subscription_type  1534 non-null   object\n",
      "dtypes: int64(2), object(3)\n",
      "memory usage: 71.9+ KB\n",
      "<class 'pandas.core.frame.DataFrame'>\n",
      "RangeIndex: 18068 entries, 0 to 18067\n",
      "Data columns (total 5 columns):\n",
      " #   Column    Non-Null Count  Dtype         \n",
      "---  ------    --------------  -----         \n",
      " 0   user_id   18068 non-null  int64         \n",
      " 1   distance  18068 non-null  float64       \n",
      " 2   duration  18068 non-null  float64       \n",
      " 3   date      18068 non-null  datetime64[ns]\n",
      " 4   month     18068 non-null  int32         \n",
      "dtypes: datetime64[ns](1), float64(2), int32(1), int64(1)\n",
      "memory usage: 635.3 KB\n",
      "<class 'pandas.core.frame.DataFrame'>\n",
      "RangeIndex: 2 entries, 0 to 1\n",
      "Data columns (total 4 columns):\n",
      " #   Column             Non-Null Count  Dtype \n",
      "---  ------             --------------  ----- \n",
      " 0   subscription_type  2 non-null      object\n",
      " 1   minute_price       2 non-null      int64 \n",
      " 2   start_ride_price   2 non-null      int64 \n",
      " 3   subscription_fee   2 non-null      int64 \n",
      "dtypes: int64(3), object(1)\n",
      "memory usage: 196.0+ bytes\n"
     ]
    }
   ],
   "source": [
    "users.info()\n",
    "rides.info()\n",
    "subs.info()"
   ]
  },
  {
   "cell_type": "code",
   "execution_count": 35,
   "id": "6bf288b5",
   "metadata": {},
   "outputs": [],
   "source": [
    "df=users.merge(subs, on='subscription_type', how='left')\n",
    "df=df.merge(rides, on='user_id', how='left')"
   ]
  },
  {
   "cell_type": "code",
   "execution_count": 36,
   "id": "e0eb8320",
   "metadata": {},
   "outputs": [
    {
     "name": "stdout",
     "output_type": "stream",
     "text": [
      "<class 'pandas.core.frame.DataFrame'>\n",
      "RangeIndex: 18068 entries, 0 to 18067\n",
      "Data columns (total 12 columns):\n",
      " #   Column             Non-Null Count  Dtype         \n",
      "---  ------             --------------  -----         \n",
      " 0   user_id            18068 non-null  int64         \n",
      " 1   name               18068 non-null  object        \n",
      " 2   age                18068 non-null  int64         \n",
      " 3   city               18068 non-null  object        \n",
      " 4   subscription_type  18068 non-null  object        \n",
      " 5   minute_price       18068 non-null  int64         \n",
      " 6   start_ride_price   18068 non-null  int64         \n",
      " 7   subscription_fee   18068 non-null  int64         \n",
      " 8   distance           18068 non-null  float64       \n",
      " 9   duration           18068 non-null  float64       \n",
      " 10  date               18068 non-null  datetime64[ns]\n",
      " 11  month              18068 non-null  int32         \n",
      "dtypes: datetime64[ns](1), float64(2), int32(1), int64(5), object(3)\n",
      "memory usage: 1.6+ MB\n"
     ]
    }
   ],
   "source": [
    "df.info()"
   ]
  },
  {
   "cell_type": "markdown",
   "id": "373e5066",
   "metadata": {},
   "source": [
    "Увидели, что после объединения у нас 13 столбцов и 18068 сторк."
   ]
  },
  {
   "cell_type": "markdown",
   "id": "9c9601b6",
   "metadata": {},
   "source": [
    "Создадим датафреймы пользователей без подписки и с подпиской"
   ]
  },
  {
   "cell_type": "code",
   "execution_count": 37,
   "id": "9bf23775",
   "metadata": {},
   "outputs": [],
   "source": [
    "df_free = df[df['subscription_type']=='free']"
   ]
  },
  {
   "cell_type": "code",
   "execution_count": 38,
   "id": "3cfe5eee",
   "metadata": {},
   "outputs": [
    {
     "data": {
      "text/html": [
       "<div>\n",
       "<style scoped>\n",
       "    .dataframe tbody tr th:only-of-type {\n",
       "        vertical-align: middle;\n",
       "    }\n",
       "\n",
       "    .dataframe tbody tr th {\n",
       "        vertical-align: top;\n",
       "    }\n",
       "\n",
       "    .dataframe thead th {\n",
       "        text-align: right;\n",
       "    }\n",
       "</style>\n",
       "<table border=\"1\" class=\"dataframe\">\n",
       "  <thead>\n",
       "    <tr style=\"text-align: right;\">\n",
       "      <th></th>\n",
       "      <th>user_id</th>\n",
       "      <th>name</th>\n",
       "      <th>age</th>\n",
       "      <th>city</th>\n",
       "      <th>subscription_type</th>\n",
       "      <th>minute_price</th>\n",
       "      <th>start_ride_price</th>\n",
       "      <th>subscription_fee</th>\n",
       "      <th>distance</th>\n",
       "      <th>duration</th>\n",
       "      <th>date</th>\n",
       "      <th>month</th>\n",
       "    </tr>\n",
       "  </thead>\n",
       "  <tbody>\n",
       "    <tr>\n",
       "      <th>6500</th>\n",
       "      <td>700</td>\n",
       "      <td>Айдар</td>\n",
       "      <td>22</td>\n",
       "      <td>Омск</td>\n",
       "      <td>free</td>\n",
       "      <td>8</td>\n",
       "      <td>50</td>\n",
       "      <td>0</td>\n",
       "      <td>2515.690719</td>\n",
       "      <td>14.944286</td>\n",
       "      <td>2021-01-02</td>\n",
       "      <td>1</td>\n",
       "    </tr>\n",
       "    <tr>\n",
       "      <th>6501</th>\n",
       "      <td>700</td>\n",
       "      <td>Айдар</td>\n",
       "      <td>22</td>\n",
       "      <td>Омск</td>\n",
       "      <td>free</td>\n",
       "      <td>8</td>\n",
       "      <td>50</td>\n",
       "      <td>0</td>\n",
       "      <td>846.932642</td>\n",
       "      <td>16.234663</td>\n",
       "      <td>2021-02-01</td>\n",
       "      <td>2</td>\n",
       "    </tr>\n",
       "    <tr>\n",
       "      <th>6502</th>\n",
       "      <td>700</td>\n",
       "      <td>Айдар</td>\n",
       "      <td>22</td>\n",
       "      <td>Омск</td>\n",
       "      <td>free</td>\n",
       "      <td>8</td>\n",
       "      <td>50</td>\n",
       "      <td>0</td>\n",
       "      <td>4004.434142</td>\n",
       "      <td>20.016628</td>\n",
       "      <td>2021-02-04</td>\n",
       "      <td>2</td>\n",
       "    </tr>\n",
       "    <tr>\n",
       "      <th>6503</th>\n",
       "      <td>700</td>\n",
       "      <td>Айдар</td>\n",
       "      <td>22</td>\n",
       "      <td>Омск</td>\n",
       "      <td>free</td>\n",
       "      <td>8</td>\n",
       "      <td>50</td>\n",
       "      <td>0</td>\n",
       "      <td>1205.911290</td>\n",
       "      <td>9.782872</td>\n",
       "      <td>2021-02-10</td>\n",
       "      <td>2</td>\n",
       "    </tr>\n",
       "    <tr>\n",
       "      <th>6504</th>\n",
       "      <td>700</td>\n",
       "      <td>Айдар</td>\n",
       "      <td>22</td>\n",
       "      <td>Омск</td>\n",
       "      <td>free</td>\n",
       "      <td>8</td>\n",
       "      <td>50</td>\n",
       "      <td>0</td>\n",
       "      <td>3047.379435</td>\n",
       "      <td>17.427673</td>\n",
       "      <td>2021-02-14</td>\n",
       "      <td>2</td>\n",
       "    </tr>\n",
       "  </tbody>\n",
       "</table>\n",
       "</div>"
      ],
      "text/plain": [
       "      user_id   name  age  city subscription_type  minute_price  \\\n",
       "6500      700  Айдар   22  Омск              free             8   \n",
       "6501      700  Айдар   22  Омск              free             8   \n",
       "6502      700  Айдар   22  Омск              free             8   \n",
       "6503      700  Айдар   22  Омск              free             8   \n",
       "6504      700  Айдар   22  Омск              free             8   \n",
       "\n",
       "      start_ride_price  subscription_fee     distance   duration       date  \\\n",
       "6500                50                 0  2515.690719  14.944286 2021-01-02   \n",
       "6501                50                 0   846.932642  16.234663 2021-02-01   \n",
       "6502                50                 0  4004.434142  20.016628 2021-02-04   \n",
       "6503                50                 0  1205.911290   9.782872 2021-02-10   \n",
       "6504                50                 0  3047.379435  17.427673 2021-02-14   \n",
       "\n",
       "      month  \n",
       "6500      1  \n",
       "6501      2  \n",
       "6502      2  \n",
       "6503      2  \n",
       "6504      2  "
      ]
     },
     "execution_count": 38,
     "metadata": {},
     "output_type": "execute_result"
    }
   ],
   "source": [
    "df_free.head()"
   ]
  },
  {
   "cell_type": "code",
   "execution_count": 39,
   "id": "29a13568",
   "metadata": {},
   "outputs": [],
   "source": [
    "df_ultra = df[df['subscription_type']=='ultra']"
   ]
  },
  {
   "cell_type": "code",
   "execution_count": 40,
   "id": "a2d31434",
   "metadata": {
    "scrolled": true
   },
   "outputs": [
    {
     "data": {
      "text/html": [
       "<div>\n",
       "<style scoped>\n",
       "    .dataframe tbody tr th:only-of-type {\n",
       "        vertical-align: middle;\n",
       "    }\n",
       "\n",
       "    .dataframe tbody tr th {\n",
       "        vertical-align: top;\n",
       "    }\n",
       "\n",
       "    .dataframe thead th {\n",
       "        text-align: right;\n",
       "    }\n",
       "</style>\n",
       "<table border=\"1\" class=\"dataframe\">\n",
       "  <thead>\n",
       "    <tr style=\"text-align: right;\">\n",
       "      <th></th>\n",
       "      <th>user_id</th>\n",
       "      <th>name</th>\n",
       "      <th>age</th>\n",
       "      <th>city</th>\n",
       "      <th>subscription_type</th>\n",
       "      <th>minute_price</th>\n",
       "      <th>start_ride_price</th>\n",
       "      <th>subscription_fee</th>\n",
       "      <th>distance</th>\n",
       "      <th>duration</th>\n",
       "      <th>date</th>\n",
       "      <th>month</th>\n",
       "    </tr>\n",
       "  </thead>\n",
       "  <tbody>\n",
       "    <tr>\n",
       "      <th>0</th>\n",
       "      <td>1</td>\n",
       "      <td>Кира</td>\n",
       "      <td>22</td>\n",
       "      <td>Тюмень</td>\n",
       "      <td>ultra</td>\n",
       "      <td>6</td>\n",
       "      <td>0</td>\n",
       "      <td>199</td>\n",
       "      <td>4409.919140</td>\n",
       "      <td>25.599769</td>\n",
       "      <td>2021-01-01</td>\n",
       "      <td>1</td>\n",
       "    </tr>\n",
       "    <tr>\n",
       "      <th>1</th>\n",
       "      <td>1</td>\n",
       "      <td>Кира</td>\n",
       "      <td>22</td>\n",
       "      <td>Тюмень</td>\n",
       "      <td>ultra</td>\n",
       "      <td>6</td>\n",
       "      <td>0</td>\n",
       "      <td>199</td>\n",
       "      <td>2617.592153</td>\n",
       "      <td>15.816871</td>\n",
       "      <td>2021-01-18</td>\n",
       "      <td>1</td>\n",
       "    </tr>\n",
       "    <tr>\n",
       "      <th>2</th>\n",
       "      <td>1</td>\n",
       "      <td>Кира</td>\n",
       "      <td>22</td>\n",
       "      <td>Тюмень</td>\n",
       "      <td>ultra</td>\n",
       "      <td>6</td>\n",
       "      <td>0</td>\n",
       "      <td>199</td>\n",
       "      <td>754.159807</td>\n",
       "      <td>6.232113</td>\n",
       "      <td>2021-04-20</td>\n",
       "      <td>4</td>\n",
       "    </tr>\n",
       "    <tr>\n",
       "      <th>3</th>\n",
       "      <td>1</td>\n",
       "      <td>Кира</td>\n",
       "      <td>22</td>\n",
       "      <td>Тюмень</td>\n",
       "      <td>ultra</td>\n",
       "      <td>6</td>\n",
       "      <td>0</td>\n",
       "      <td>199</td>\n",
       "      <td>2694.783254</td>\n",
       "      <td>18.511000</td>\n",
       "      <td>2021-08-11</td>\n",
       "      <td>8</td>\n",
       "    </tr>\n",
       "    <tr>\n",
       "      <th>4</th>\n",
       "      <td>1</td>\n",
       "      <td>Кира</td>\n",
       "      <td>22</td>\n",
       "      <td>Тюмень</td>\n",
       "      <td>ultra</td>\n",
       "      <td>6</td>\n",
       "      <td>0</td>\n",
       "      <td>199</td>\n",
       "      <td>4028.687306</td>\n",
       "      <td>26.265803</td>\n",
       "      <td>2021-08-28</td>\n",
       "      <td>8</td>\n",
       "    </tr>\n",
       "  </tbody>\n",
       "</table>\n",
       "</div>"
      ],
      "text/plain": [
       "   user_id  name  age    city subscription_type  minute_price  \\\n",
       "0        1  Кира   22  Тюмень             ultra             6   \n",
       "1        1  Кира   22  Тюмень             ultra             6   \n",
       "2        1  Кира   22  Тюмень             ultra             6   \n",
       "3        1  Кира   22  Тюмень             ultra             6   \n",
       "4        1  Кира   22  Тюмень             ultra             6   \n",
       "\n",
       "   start_ride_price  subscription_fee     distance   duration       date  \\\n",
       "0                 0               199  4409.919140  25.599769 2021-01-01   \n",
       "1                 0               199  2617.592153  15.816871 2021-01-18   \n",
       "2                 0               199   754.159807   6.232113 2021-04-20   \n",
       "3                 0               199  2694.783254  18.511000 2021-08-11   \n",
       "4                 0               199  4028.687306  26.265803 2021-08-28   \n",
       "\n",
       "   month  \n",
       "0      1  \n",
       "1      1  \n",
       "2      4  \n",
       "3      8  \n",
       "4      8  "
      ]
     },
     "execution_count": 40,
     "metadata": {},
     "output_type": "execute_result"
    }
   ],
   "source": [
    "df_ultra.head()"
   ]
  },
  {
   "cell_type": "markdown",
   "id": "46d0cb5e",
   "metadata": {},
   "source": [
    "Расстояние и время поездки для пользователей без подпиской"
   ]
  },
  {
   "cell_type": "code",
   "execution_count": 41,
   "id": "7998d815",
   "metadata": {
    "scrolled": false
   },
   "outputs": [
    {
     "data": {
      "text/plain": [
       "Text(0.5, 1.0, 'Расстояние для пользователя без подписки')"
      ]
     },
     "execution_count": 41,
     "metadata": {},
     "output_type": "execute_result"
    },
    {
     "data": {
      "image/png": "[encoded data removed]",
      "text/plain": [
       "<Figure size 1600x900 with 1 Axes>"
      ]
     },
     "metadata": {},
     "output_type": "display_data"
    }
   ],
   "source": [
    "df_free['distance'].hist(bins = 30, grid=True, figsize=(16,9))\n",
    "plt.xlabel(\"Расстояние\", fontsize=13)\n",
    "plt.ylabel(\"Частота встречаемости\", fontsize=13)\n",
    "plt.title('Расстояние для пользователя без подписки',fontsize=25,fontweight='bold', pad=20)"
   ]
  },
  {
   "cell_type": "code",
   "execution_count": 42,
   "id": "17b6de11",
   "metadata": {},
   "outputs": [
    {
     "data": {
      "text/plain": [
       "Text(0.5, 1.0, 'Продолжительность для пользователя без подписки')"
      ]
     },
     "execution_count": 42,
     "metadata": {},
     "output_type": "execute_result"
    },
    {
     "data": {
      "image/png": "[encoded data removed]",
      "text/plain": [
       "<Figure size 1600x900 with 1 Axes>"
      ]
     },
     "metadata": {},
     "output_type": "display_data"
    }
   ],
   "source": [
    "df_free['duration'].hist(bins = 30, grid=True, figsize=(16,9))\n",
    "plt.xlabel(\"Время\", fontsize=13)\n",
    "plt.ylabel(\"Частота встречаемости\", fontsize=13)\n",
    "plt.title('Продолжительность для пользователя без подписки',fontsize=25,fontweight='bold', pad=20)"
   ]
  },
  {
   "cell_type": "markdown",
   "id": "9204ffbe",
   "metadata": {},
   "source": [
    "Теперь визуализируем расстояние и время поездки для пользователей с подпиской"
   ]
  },
  {
   "cell_type": "code",
   "execution_count": 43,
   "id": "adef97e5",
   "metadata": {},
   "outputs": [
    {
     "data": {
      "text/plain": [
       "Text(0.5, 1.0, 'Расстояние для пользователя с подпиской')"
      ]
     },
     "execution_count": 43,
     "metadata": {},
     "output_type": "execute_result"
    },
    {
     "data": {
      "image/png": "[encoded data removed]",
      "text/plain": [
       "<Figure size 1600x900 with 1 Axes>"
      ]
     },
     "metadata": {},
     "output_type": "display_data"
    }
   ],
   "source": [
    "df_ultra['distance'].hist(bins = 30, grid=True, figsize=(16,9))\n",
    "plt.xlabel(\"Расстояние\", fontsize=13)\n",
    "plt.ylabel(\"Частота встречаемости\", fontsize=13)\n",
    "plt.title('Расстояние для пользователя с подпиской',fontsize=25,fontweight='bold', pad=20)"
   ]
  },
  {
   "cell_type": "code",
   "execution_count": 44,
   "id": "b81a752e",
   "metadata": {
    "scrolled": false
   },
   "outputs": [
    {
     "data": {
      "text/plain": [
       "Text(0.5, 1.0, 'Продолжительность для пользователя с подпиской')"
      ]
     },
     "execution_count": 44,
     "metadata": {},
     "output_type": "execute_result"
    },
    {
     "data": {
      "image/png": "[encoded data removed]",
      "text/plain": [
       "<Figure size 1600x900 with 1 Axes>"
      ]
     },
     "metadata": {},
     "output_type": "display_data"
    }
   ],
   "source": [
    "df_ultra['duration'].hist(bins = 30, grid=True, figsize=(16,9))\n",
    "plt.xlabel(\"Время\", fontsize=13)\n",
    "plt.ylabel(\"Частота встречаемости\", fontsize=13)\n",
    "plt.title('Продолжительность для пользователя с подпиской',fontsize=25,fontweight='bold', pad=20)"
   ]
  },
  {
   "cell_type": "markdown",
   "id": "cf81aa40",
   "metadata": {},
   "source": [
    "**ВЫВОД:** По полученным графикам видно, что пользователи с подпиской проезжают большие расстояния. Пик на графике для пользователей с подписко находится правее. По времени наоборот создается впечатление, что пользователи без подписки едут дольше."
   ]
  },
  {
   "cell_type": "markdown",
   "id": "402d620f",
   "metadata": {},
   "source": [
    "#### Подсчёт выручки"
   ]
  },
  {
   "cell_type": "code",
   "execution_count": 45,
   "id": "53049e0a",
   "metadata": {},
   "outputs": [],
   "source": [
    "df_new=df.groupby(['user_id', 'name', 'month']).agg({'distance':'sum'})"
   ]
  },
  {
   "cell_type": "code",
   "execution_count": 46,
   "id": "17ca53ad",
   "metadata": {},
   "outputs": [],
   "source": [
    "df_new['distance']=np.ceil(df_new['distance'])"
   ]
  },
  {
   "cell_type": "code",
   "execution_count": 47,
   "id": "b70db64b",
   "metadata": {},
   "outputs": [
    {
     "data": {
      "text/html": [
       "<div>\n",
       "<style scoped>\n",
       "    .dataframe tbody tr th:only-of-type {\n",
       "        vertical-align: middle;\n",
       "    }\n",
       "\n",
       "    .dataframe tbody tr th {\n",
       "        vertical-align: top;\n",
       "    }\n",
       "\n",
       "    .dataframe thead th {\n",
       "        text-align: right;\n",
       "    }\n",
       "</style>\n",
       "<table border=\"1\" class=\"dataframe\">\n",
       "  <thead>\n",
       "    <tr style=\"text-align: right;\">\n",
       "      <th></th>\n",
       "      <th></th>\n",
       "      <th></th>\n",
       "      <th>distance</th>\n",
       "    </tr>\n",
       "    <tr>\n",
       "      <th>user_id</th>\n",
       "      <th>name</th>\n",
       "      <th>month</th>\n",
       "      <th></th>\n",
       "    </tr>\n",
       "  </thead>\n",
       "  <tbody>\n",
       "    <tr>\n",
       "      <th rowspan=\"5\" valign=\"top\">1</th>\n",
       "      <th rowspan=\"5\" valign=\"top\">Кира</th>\n",
       "      <th>1</th>\n",
       "      <td>7028.0</td>\n",
       "    </tr>\n",
       "    <tr>\n",
       "      <th>4</th>\n",
       "      <td>755.0</td>\n",
       "    </tr>\n",
       "    <tr>\n",
       "      <th>8</th>\n",
       "      <td>6724.0</td>\n",
       "    </tr>\n",
       "    <tr>\n",
       "      <th>10</th>\n",
       "      <td>5810.0</td>\n",
       "    </tr>\n",
       "    <tr>\n",
       "      <th>11</th>\n",
       "      <td>7004.0</td>\n",
       "    </tr>\n",
       "  </tbody>\n",
       "</table>\n",
       "</div>"
      ],
      "text/plain": [
       "                    distance\n",
       "user_id name month          \n",
       "1       Кира 1        7028.0\n",
       "             4         755.0\n",
       "             8        6724.0\n",
       "             10       5810.0\n",
       "             11       7004.0"
      ]
     },
     "execution_count": 47,
     "metadata": {},
     "output_type": "execute_result"
    }
   ],
   "source": [
    "df_new.head()"
   ]
  },
  {
   "cell_type": "code",
   "execution_count": 48,
   "id": "931c52a0",
   "metadata": {},
   "outputs": [],
   "source": [
    "df_new['duration_sum'] = df.groupby(['user_id', 'name', 'month']).agg({'duration':'sum',})\n",
    "df_new['rides_count'] = df.groupby(['user_id', 'name', 'month']).agg({'duration':'count',})"
   ]
  },
  {
   "cell_type": "code",
   "execution_count": 49,
   "id": "c774fb19",
   "metadata": {
    "scrolled": true
   },
   "outputs": [
    {
     "data": {
      "text/html": [
       "<div>\n",
       "<style scoped>\n",
       "    .dataframe tbody tr th:only-of-type {\n",
       "        vertical-align: middle;\n",
       "    }\n",
       "\n",
       "    .dataframe tbody tr th {\n",
       "        vertical-align: top;\n",
       "    }\n",
       "\n",
       "    .dataframe thead th {\n",
       "        text-align: right;\n",
       "    }\n",
       "</style>\n",
       "<table border=\"1\" class=\"dataframe\">\n",
       "  <thead>\n",
       "    <tr style=\"text-align: right;\">\n",
       "      <th></th>\n",
       "      <th></th>\n",
       "      <th></th>\n",
       "      <th>distance</th>\n",
       "      <th>duration_sum</th>\n",
       "      <th>rides_count</th>\n",
       "    </tr>\n",
       "    <tr>\n",
       "      <th>user_id</th>\n",
       "      <th>name</th>\n",
       "      <th>month</th>\n",
       "      <th></th>\n",
       "      <th></th>\n",
       "      <th></th>\n",
       "    </tr>\n",
       "  </thead>\n",
       "  <tbody>\n",
       "    <tr>\n",
       "      <th rowspan=\"6\" valign=\"top\">1</th>\n",
       "      <th rowspan=\"6\" valign=\"top\">Кира</th>\n",
       "      <th>1</th>\n",
       "      <td>7028.0</td>\n",
       "      <td>41.416640</td>\n",
       "      <td>2</td>\n",
       "    </tr>\n",
       "    <tr>\n",
       "      <th>4</th>\n",
       "      <td>755.0</td>\n",
       "      <td>6.232113</td>\n",
       "      <td>1</td>\n",
       "    </tr>\n",
       "    <tr>\n",
       "      <th>8</th>\n",
       "      <td>6724.0</td>\n",
       "      <td>44.776802</td>\n",
       "      <td>2</td>\n",
       "    </tr>\n",
       "    <tr>\n",
       "      <th>10</th>\n",
       "      <td>5810.0</td>\n",
       "      <td>31.578017</td>\n",
       "      <td>2</td>\n",
       "    </tr>\n",
       "    <tr>\n",
       "      <th>11</th>\n",
       "      <td>7004.0</td>\n",
       "      <td>53.397424</td>\n",
       "      <td>3</td>\n",
       "    </tr>\n",
       "    <tr>\n",
       "      <th>12</th>\n",
       "      <td>6752.0</td>\n",
       "      <td>27.203912</td>\n",
       "      <td>2</td>\n",
       "    </tr>\n",
       "    <tr>\n",
       "      <th rowspan=\"7\" valign=\"top\">2</th>\n",
       "      <th rowspan=\"7\" valign=\"top\">Станислав</th>\n",
       "      <th>3</th>\n",
       "      <td>10188.0</td>\n",
       "      <td>60.959959</td>\n",
       "      <td>3</td>\n",
       "    </tr>\n",
       "    <tr>\n",
       "      <th>4</th>\n",
       "      <td>6165.0</td>\n",
       "      <td>39.048633</td>\n",
       "      <td>2</td>\n",
       "    </tr>\n",
       "    <tr>\n",
       "      <th>6</th>\n",
       "      <td>3256.0</td>\n",
       "      <td>13.851127</td>\n",
       "      <td>1</td>\n",
       "    </tr>\n",
       "    <tr>\n",
       "      <th>7</th>\n",
       "      <td>6781.0</td>\n",
       "      <td>46.170157</td>\n",
       "      <td>2</td>\n",
       "    </tr>\n",
       "    <tr>\n",
       "      <th>8</th>\n",
       "      <td>924.0</td>\n",
       "      <td>6.914760</td>\n",
       "      <td>1</td>\n",
       "    </tr>\n",
       "    <tr>\n",
       "      <th>10</th>\n",
       "      <td>2825.0</td>\n",
       "      <td>18.779128</td>\n",
       "      <td>1</td>\n",
       "    </tr>\n",
       "    <tr>\n",
       "      <th>12</th>\n",
       "      <td>3829.0</td>\n",
       "      <td>11.920514</td>\n",
       "      <td>1</td>\n",
       "    </tr>\n",
       "    <tr>\n",
       "      <th rowspan=\"7\" valign=\"top\">3</th>\n",
       "      <th rowspan=\"7\" valign=\"top\">Алексей</th>\n",
       "      <th>1</th>\n",
       "      <td>3062.0</td>\n",
       "      <td>12.654443</td>\n",
       "      <td>1</td>\n",
       "    </tr>\n",
       "    <tr>\n",
       "      <th>2</th>\n",
       "      <td>5422.0</td>\n",
       "      <td>37.568637</td>\n",
       "      <td>2</td>\n",
       "    </tr>\n",
       "    <tr>\n",
       "      <th>4</th>\n",
       "      <td>2957.0</td>\n",
       "      <td>20.671364</td>\n",
       "      <td>1</td>\n",
       "    </tr>\n",
       "    <tr>\n",
       "      <th>5</th>\n",
       "      <td>9065.0</td>\n",
       "      <td>61.404503</td>\n",
       "      <td>3</td>\n",
       "    </tr>\n",
       "    <tr>\n",
       "      <th>7</th>\n",
       "      <td>10920.0</td>\n",
       "      <td>65.519784</td>\n",
       "      <td>3</td>\n",
       "    </tr>\n",
       "    <tr>\n",
       "      <th>9</th>\n",
       "      <td>2892.0</td>\n",
       "      <td>22.390055</td>\n",
       "      <td>1</td>\n",
       "    </tr>\n",
       "    <tr>\n",
       "      <th>12</th>\n",
       "      <td>2594.0</td>\n",
       "      <td>12.984728</td>\n",
       "      <td>1</td>\n",
       "    </tr>\n",
       "  </tbody>\n",
       "</table>\n",
       "</div>"
      ],
      "text/plain": [
       "                         distance  duration_sum  rides_count\n",
       "user_id name      month                                     \n",
       "1       Кира      1        7028.0     41.416640            2\n",
       "                  4         755.0      6.232113            1\n",
       "                  8        6724.0     44.776802            2\n",
       "                  10       5810.0     31.578017            2\n",
       "                  11       7004.0     53.397424            3\n",
       "                  12       6752.0     27.203912            2\n",
       "2       Станислав 3       10188.0     60.959959            3\n",
       "                  4        6165.0     39.048633            2\n",
       "                  6        3256.0     13.851127            1\n",
       "                  7        6781.0     46.170157            2\n",
       "                  8         924.0      6.914760            1\n",
       "                  10       2825.0     18.779128            1\n",
       "                  12       3829.0     11.920514            1\n",
       "3       Алексей   1        3062.0     12.654443            1\n",
       "                  2        5422.0     37.568637            2\n",
       "                  4        2957.0     20.671364            1\n",
       "                  5        9065.0     61.404503            3\n",
       "                  7       10920.0     65.519784            3\n",
       "                  9        2892.0     22.390055            1\n",
       "                  12       2594.0     12.984728            1"
      ]
     },
     "execution_count": 49,
     "metadata": {},
     "output_type": "execute_result"
    }
   ],
   "source": [
    "df_new.head(20)"
   ]
  },
  {
   "cell_type": "code",
   "execution_count": 50,
   "id": "d9f72b8c",
   "metadata": {},
   "outputs": [],
   "source": [
    "df_new['duration_sum']=np.ceil(df_new['duration_sum'])\n",
    "df['duration']=np.ceil(df['duration'])"
   ]
  },
  {
   "cell_type": "markdown",
   "id": "45970dff",
   "metadata": {},
   "source": [
    "Добавим столбец с помесячной выручкой, которую принёс каждый пользователь"
   ]
  },
  {
   "cell_type": "code",
   "execution_count": 51,
   "id": "361e210d",
   "metadata": {},
   "outputs": [],
   "source": [
    "df['cost']=df['start_ride_price']+df['minute_price']*df['duration']"
   ]
  },
  {
   "cell_type": "code",
   "execution_count": 52,
   "id": "c96632e9",
   "metadata": {},
   "outputs": [
    {
     "data": {
      "text/html": [
       "<div>\n",
       "<style scoped>\n",
       "    .dataframe tbody tr th:only-of-type {\n",
       "        vertical-align: middle;\n",
       "    }\n",
       "\n",
       "    .dataframe tbody tr th {\n",
       "        vertical-align: top;\n",
       "    }\n",
       "\n",
       "    .dataframe thead th {\n",
       "        text-align: right;\n",
       "    }\n",
       "</style>\n",
       "<table border=\"1\" class=\"dataframe\">\n",
       "  <thead>\n",
       "    <tr style=\"text-align: right;\">\n",
       "      <th></th>\n",
       "      <th>user_id</th>\n",
       "      <th>name</th>\n",
       "      <th>age</th>\n",
       "      <th>city</th>\n",
       "      <th>subscription_type</th>\n",
       "      <th>minute_price</th>\n",
       "      <th>start_ride_price</th>\n",
       "      <th>subscription_fee</th>\n",
       "      <th>distance</th>\n",
       "      <th>duration</th>\n",
       "      <th>date</th>\n",
       "      <th>month</th>\n",
       "      <th>cost</th>\n",
       "    </tr>\n",
       "  </thead>\n",
       "  <tbody>\n",
       "    <tr>\n",
       "      <th>0</th>\n",
       "      <td>1</td>\n",
       "      <td>Кира</td>\n",
       "      <td>22</td>\n",
       "      <td>Тюмень</td>\n",
       "      <td>ultra</td>\n",
       "      <td>6</td>\n",
       "      <td>0</td>\n",
       "      <td>199</td>\n",
       "      <td>4409.919140</td>\n",
       "      <td>26.0</td>\n",
       "      <td>2021-01-01</td>\n",
       "      <td>1</td>\n",
       "      <td>156.0</td>\n",
       "    </tr>\n",
       "    <tr>\n",
       "      <th>1</th>\n",
       "      <td>1</td>\n",
       "      <td>Кира</td>\n",
       "      <td>22</td>\n",
       "      <td>Тюмень</td>\n",
       "      <td>ultra</td>\n",
       "      <td>6</td>\n",
       "      <td>0</td>\n",
       "      <td>199</td>\n",
       "      <td>2617.592153</td>\n",
       "      <td>16.0</td>\n",
       "      <td>2021-01-18</td>\n",
       "      <td>1</td>\n",
       "      <td>96.0</td>\n",
       "    </tr>\n",
       "    <tr>\n",
       "      <th>2</th>\n",
       "      <td>1</td>\n",
       "      <td>Кира</td>\n",
       "      <td>22</td>\n",
       "      <td>Тюмень</td>\n",
       "      <td>ultra</td>\n",
       "      <td>6</td>\n",
       "      <td>0</td>\n",
       "      <td>199</td>\n",
       "      <td>754.159807</td>\n",
       "      <td>7.0</td>\n",
       "      <td>2021-04-20</td>\n",
       "      <td>4</td>\n",
       "      <td>42.0</td>\n",
       "    </tr>\n",
       "    <tr>\n",
       "      <th>3</th>\n",
       "      <td>1</td>\n",
       "      <td>Кира</td>\n",
       "      <td>22</td>\n",
       "      <td>Тюмень</td>\n",
       "      <td>ultra</td>\n",
       "      <td>6</td>\n",
       "      <td>0</td>\n",
       "      <td>199</td>\n",
       "      <td>2694.783254</td>\n",
       "      <td>19.0</td>\n",
       "      <td>2021-08-11</td>\n",
       "      <td>8</td>\n",
       "      <td>114.0</td>\n",
       "    </tr>\n",
       "    <tr>\n",
       "      <th>4</th>\n",
       "      <td>1</td>\n",
       "      <td>Кира</td>\n",
       "      <td>22</td>\n",
       "      <td>Тюмень</td>\n",
       "      <td>ultra</td>\n",
       "      <td>6</td>\n",
       "      <td>0</td>\n",
       "      <td>199</td>\n",
       "      <td>4028.687306</td>\n",
       "      <td>27.0</td>\n",
       "      <td>2021-08-28</td>\n",
       "      <td>8</td>\n",
       "      <td>162.0</td>\n",
       "    </tr>\n",
       "    <tr>\n",
       "      <th>...</th>\n",
       "      <td>...</td>\n",
       "      <td>...</td>\n",
       "      <td>...</td>\n",
       "      <td>...</td>\n",
       "      <td>...</td>\n",
       "      <td>...</td>\n",
       "      <td>...</td>\n",
       "      <td>...</td>\n",
       "      <td>...</td>\n",
       "      <td>...</td>\n",
       "      <td>...</td>\n",
       "      <td>...</td>\n",
       "      <td>...</td>\n",
       "    </tr>\n",
       "    <tr>\n",
       "      <th>18063</th>\n",
       "      <td>1534</td>\n",
       "      <td>Альберт</td>\n",
       "      <td>25</td>\n",
       "      <td>Краснодар</td>\n",
       "      <td>free</td>\n",
       "      <td>8</td>\n",
       "      <td>50</td>\n",
       "      <td>0</td>\n",
       "      <td>3781.098080</td>\n",
       "      <td>20.0</td>\n",
       "      <td>2021-11-04</td>\n",
       "      <td>11</td>\n",
       "      <td>210.0</td>\n",
       "    </tr>\n",
       "    <tr>\n",
       "      <th>18064</th>\n",
       "      <td>1534</td>\n",
       "      <td>Альберт</td>\n",
       "      <td>25</td>\n",
       "      <td>Краснодар</td>\n",
       "      <td>free</td>\n",
       "      <td>8</td>\n",
       "      <td>50</td>\n",
       "      <td>0</td>\n",
       "      <td>2840.423057</td>\n",
       "      <td>22.0</td>\n",
       "      <td>2021-11-16</td>\n",
       "      <td>11</td>\n",
       "      <td>226.0</td>\n",
       "    </tr>\n",
       "    <tr>\n",
       "      <th>18065</th>\n",
       "      <td>1534</td>\n",
       "      <td>Альберт</td>\n",
       "      <td>25</td>\n",
       "      <td>Краснодар</td>\n",
       "      <td>free</td>\n",
       "      <td>8</td>\n",
       "      <td>50</td>\n",
       "      <td>0</td>\n",
       "      <td>3826.185507</td>\n",
       "      <td>19.0</td>\n",
       "      <td>2021-11-18</td>\n",
       "      <td>11</td>\n",
       "      <td>202.0</td>\n",
       "    </tr>\n",
       "    <tr>\n",
       "      <th>18066</th>\n",
       "      <td>1534</td>\n",
       "      <td>Альберт</td>\n",
       "      <td>25</td>\n",
       "      <td>Краснодар</td>\n",
       "      <td>free</td>\n",
       "      <td>8</td>\n",
       "      <td>50</td>\n",
       "      <td>0</td>\n",
       "      <td>2902.308661</td>\n",
       "      <td>17.0</td>\n",
       "      <td>2021-11-27</td>\n",
       "      <td>11</td>\n",
       "      <td>186.0</td>\n",
       "    </tr>\n",
       "    <tr>\n",
       "      <th>18067</th>\n",
       "      <td>1534</td>\n",
       "      <td>Альберт</td>\n",
       "      <td>25</td>\n",
       "      <td>Краснодар</td>\n",
       "      <td>free</td>\n",
       "      <td>8</td>\n",
       "      <td>50</td>\n",
       "      <td>0</td>\n",
       "      <td>2371.711192</td>\n",
       "      <td>16.0</td>\n",
       "      <td>2021-12-29</td>\n",
       "      <td>12</td>\n",
       "      <td>178.0</td>\n",
       "    </tr>\n",
       "  </tbody>\n",
       "</table>\n",
       "<p>18068 rows × 13 columns</p>\n",
       "</div>"
      ],
      "text/plain": [
       "       user_id     name  age       city subscription_type  minute_price  \\\n",
       "0            1     Кира   22     Тюмень             ultra             6   \n",
       "1            1     Кира   22     Тюмень             ultra             6   \n",
       "2            1     Кира   22     Тюмень             ultra             6   \n",
       "3            1     Кира   22     Тюмень             ultra             6   \n",
       "4            1     Кира   22     Тюмень             ultra             6   \n",
       "...        ...      ...  ...        ...               ...           ...   \n",
       "18063     1534  Альберт   25  Краснодар              free             8   \n",
       "18064     1534  Альберт   25  Краснодар              free             8   \n",
       "18065     1534  Альберт   25  Краснодар              free             8   \n",
       "18066     1534  Альберт   25  Краснодар              free             8   \n",
       "18067     1534  Альберт   25  Краснодар              free             8   \n",
       "\n",
       "       start_ride_price  subscription_fee     distance  duration       date  \\\n",
       "0                     0               199  4409.919140      26.0 2021-01-01   \n",
       "1                     0               199  2617.592153      16.0 2021-01-18   \n",
       "2                     0               199   754.159807       7.0 2021-04-20   \n",
       "3                     0               199  2694.783254      19.0 2021-08-11   \n",
       "4                     0               199  4028.687306      27.0 2021-08-28   \n",
       "...                 ...               ...          ...       ...        ...   \n",
       "18063                50                 0  3781.098080      20.0 2021-11-04   \n",
       "18064                50                 0  2840.423057      22.0 2021-11-16   \n",
       "18065                50                 0  3826.185507      19.0 2021-11-18   \n",
       "18066                50                 0  2902.308661      17.0 2021-11-27   \n",
       "18067                50                 0  2371.711192      16.0 2021-12-29   \n",
       "\n",
       "       month   cost  \n",
       "0          1  156.0  \n",
       "1          1   96.0  \n",
       "2          4   42.0  \n",
       "3          8  114.0  \n",
       "4          8  162.0  \n",
       "...      ...    ...  \n",
       "18063     11  210.0  \n",
       "18064     11  226.0  \n",
       "18065     11  202.0  \n",
       "18066     11  186.0  \n",
       "18067     12  178.0  \n",
       "\n",
       "[18068 rows x 13 columns]"
      ]
     },
     "execution_count": 52,
     "metadata": {},
     "output_type": "execute_result"
    }
   ],
   "source": [
    "df"
   ]
  },
  {
   "cell_type": "code",
   "execution_count": 53,
   "id": "d15d7231",
   "metadata": {},
   "outputs": [],
   "source": [
    "df_new['cost']=df.groupby(['user_id', 'name', 'month']).agg({'cost':'sum',})\n",
    "df_new['subscription'] = df.groupby(['user_id', 'name', 'month']).agg({'subscription_fee':'max'})"
   ]
  },
  {
   "cell_type": "code",
   "execution_count": 54,
   "id": "774b5b4a",
   "metadata": {},
   "outputs": [
    {
     "data": {
      "text/html": [
       "<div>\n",
       "<style scoped>\n",
       "    .dataframe tbody tr th:only-of-type {\n",
       "        vertical-align: middle;\n",
       "    }\n",
       "\n",
       "    .dataframe tbody tr th {\n",
       "        vertical-align: top;\n",
       "    }\n",
       "\n",
       "    .dataframe thead th {\n",
       "        text-align: right;\n",
       "    }\n",
       "</style>\n",
       "<table border=\"1\" class=\"dataframe\">\n",
       "  <thead>\n",
       "    <tr style=\"text-align: right;\">\n",
       "      <th></th>\n",
       "      <th></th>\n",
       "      <th></th>\n",
       "      <th>distance</th>\n",
       "      <th>duration_sum</th>\n",
       "      <th>rides_count</th>\n",
       "      <th>cost</th>\n",
       "      <th>subscription</th>\n",
       "    </tr>\n",
       "    <tr>\n",
       "      <th>user_id</th>\n",
       "      <th>name</th>\n",
       "      <th>month</th>\n",
       "      <th></th>\n",
       "      <th></th>\n",
       "      <th></th>\n",
       "      <th></th>\n",
       "      <th></th>\n",
       "    </tr>\n",
       "  </thead>\n",
       "  <tbody>\n",
       "    <tr>\n",
       "      <th rowspan=\"5\" valign=\"top\">1</th>\n",
       "      <th rowspan=\"5\" valign=\"top\">Кира</th>\n",
       "      <th>1</th>\n",
       "      <td>7028.0</td>\n",
       "      <td>42.0</td>\n",
       "      <td>2</td>\n",
       "      <td>252.0</td>\n",
       "      <td>199</td>\n",
       "    </tr>\n",
       "    <tr>\n",
       "      <th>4</th>\n",
       "      <td>755.0</td>\n",
       "      <td>7.0</td>\n",
       "      <td>1</td>\n",
       "      <td>42.0</td>\n",
       "      <td>199</td>\n",
       "    </tr>\n",
       "    <tr>\n",
       "      <th>8</th>\n",
       "      <td>6724.0</td>\n",
       "      <td>45.0</td>\n",
       "      <td>2</td>\n",
       "      <td>276.0</td>\n",
       "      <td>199</td>\n",
       "    </tr>\n",
       "    <tr>\n",
       "      <th>10</th>\n",
       "      <td>5810.0</td>\n",
       "      <td>32.0</td>\n",
       "      <td>2</td>\n",
       "      <td>192.0</td>\n",
       "      <td>199</td>\n",
       "    </tr>\n",
       "    <tr>\n",
       "      <th>11</th>\n",
       "      <td>7004.0</td>\n",
       "      <td>54.0</td>\n",
       "      <td>3</td>\n",
       "      <td>336.0</td>\n",
       "      <td>199</td>\n",
       "    </tr>\n",
       "    <tr>\n",
       "      <th>...</th>\n",
       "      <th>...</th>\n",
       "      <th>...</th>\n",
       "      <td>...</td>\n",
       "      <td>...</td>\n",
       "      <td>...</td>\n",
       "      <td>...</td>\n",
       "      <td>...</td>\n",
       "    </tr>\n",
       "    <tr>\n",
       "      <th rowspan=\"5\" valign=\"top\">1534</th>\n",
       "      <th rowspan=\"5\" valign=\"top\">Альберт</th>\n",
       "      <th>6</th>\n",
       "      <td>3410.0</td>\n",
       "      <td>25.0</td>\n",
       "      <td>2</td>\n",
       "      <td>308.0</td>\n",
       "      <td>0</td>\n",
       "    </tr>\n",
       "    <tr>\n",
       "      <th>8</th>\n",
       "      <td>7623.0</td>\n",
       "      <td>48.0</td>\n",
       "      <td>2</td>\n",
       "      <td>484.0</td>\n",
       "      <td>0</td>\n",
       "    </tr>\n",
       "    <tr>\n",
       "      <th>9</th>\n",
       "      <td>4929.0</td>\n",
       "      <td>23.0</td>\n",
       "      <td>1</td>\n",
       "      <td>234.0</td>\n",
       "      <td>0</td>\n",
       "    </tr>\n",
       "    <tr>\n",
       "      <th>11</th>\n",
       "      <td>13351.0</td>\n",
       "      <td>77.0</td>\n",
       "      <td>4</td>\n",
       "      <td>824.0</td>\n",
       "      <td>0</td>\n",
       "    </tr>\n",
       "    <tr>\n",
       "      <th>12</th>\n",
       "      <td>2372.0</td>\n",
       "      <td>16.0</td>\n",
       "      <td>1</td>\n",
       "      <td>178.0</td>\n",
       "      <td>0</td>\n",
       "    </tr>\n",
       "  </tbody>\n",
       "</table>\n",
       "<p>11331 rows × 5 columns</p>\n",
       "</div>"
      ],
      "text/plain": [
       "                       distance  duration_sum  rides_count   cost  \\\n",
       "user_id name    month                                               \n",
       "1       Кира    1        7028.0          42.0            2  252.0   \n",
       "                4         755.0           7.0            1   42.0   \n",
       "                8        6724.0          45.0            2  276.0   \n",
       "                10       5810.0          32.0            2  192.0   \n",
       "                11       7004.0          54.0            3  336.0   \n",
       "...                         ...           ...          ...    ...   \n",
       "1534    Альберт 6        3410.0          25.0            2  308.0   \n",
       "                8        7623.0          48.0            2  484.0   \n",
       "                9        4929.0          23.0            1  234.0   \n",
       "                11      13351.0          77.0            4  824.0   \n",
       "                12       2372.0          16.0            1  178.0   \n",
       "\n",
       "                       subscription  \n",
       "user_id name    month                \n",
       "1       Кира    1               199  \n",
       "                4               199  \n",
       "                8               199  \n",
       "                10              199  \n",
       "                11              199  \n",
       "...                             ...  \n",
       "1534    Альберт 6                 0  \n",
       "                8                 0  \n",
       "                9                 0  \n",
       "                11                0  \n",
       "                12                0  \n",
       "\n",
       "[11331 rows x 5 columns]"
      ]
     },
     "execution_count": 54,
     "metadata": {},
     "output_type": "execute_result"
    }
   ],
   "source": [
    "df_new"
   ]
  },
  {
   "cell_type": "markdown",
   "id": "cea4596a",
   "metadata": {},
   "source": [
    "Теперь отдельно добавим к общей стоимости подписку."
   ]
  },
  {
   "cell_type": "code",
   "execution_count": 55,
   "id": "a3658a5c",
   "metadata": {},
   "outputs": [],
   "source": [
    "df_new['cost']=df_new['cost']+df_new['subscription']"
   ]
  },
  {
   "cell_type": "code",
   "execution_count": 56,
   "id": "39137a20",
   "metadata": {
    "scrolled": false
   },
   "outputs": [
    {
     "data": {
      "text/html": [
       "<div>\n",
       "<style scoped>\n",
       "    .dataframe tbody tr th:only-of-type {\n",
       "        vertical-align: middle;\n",
       "    }\n",
       "\n",
       "    .dataframe tbody tr th {\n",
       "        vertical-align: top;\n",
       "    }\n",
       "\n",
       "    .dataframe thead th {\n",
       "        text-align: right;\n",
       "    }\n",
       "</style>\n",
       "<table border=\"1\" class=\"dataframe\">\n",
       "  <thead>\n",
       "    <tr style=\"text-align: right;\">\n",
       "      <th></th>\n",
       "      <th></th>\n",
       "      <th></th>\n",
       "      <th>distance</th>\n",
       "      <th>duration_sum</th>\n",
       "      <th>rides_count</th>\n",
       "      <th>cost</th>\n",
       "      <th>subscription</th>\n",
       "    </tr>\n",
       "    <tr>\n",
       "      <th>user_id</th>\n",
       "      <th>name</th>\n",
       "      <th>month</th>\n",
       "      <th></th>\n",
       "      <th></th>\n",
       "      <th></th>\n",
       "      <th></th>\n",
       "      <th></th>\n",
       "    </tr>\n",
       "  </thead>\n",
       "  <tbody>\n",
       "    <tr>\n",
       "      <th rowspan=\"5\" valign=\"top\">1</th>\n",
       "      <th rowspan=\"5\" valign=\"top\">Кира</th>\n",
       "      <th>1</th>\n",
       "      <td>7028.0</td>\n",
       "      <td>42.0</td>\n",
       "      <td>2</td>\n",
       "      <td>451.0</td>\n",
       "      <td>199</td>\n",
       "    </tr>\n",
       "    <tr>\n",
       "      <th>4</th>\n",
       "      <td>755.0</td>\n",
       "      <td>7.0</td>\n",
       "      <td>1</td>\n",
       "      <td>241.0</td>\n",
       "      <td>199</td>\n",
       "    </tr>\n",
       "    <tr>\n",
       "      <th>8</th>\n",
       "      <td>6724.0</td>\n",
       "      <td>45.0</td>\n",
       "      <td>2</td>\n",
       "      <td>475.0</td>\n",
       "      <td>199</td>\n",
       "    </tr>\n",
       "    <tr>\n",
       "      <th>10</th>\n",
       "      <td>5810.0</td>\n",
       "      <td>32.0</td>\n",
       "      <td>2</td>\n",
       "      <td>391.0</td>\n",
       "      <td>199</td>\n",
       "    </tr>\n",
       "    <tr>\n",
       "      <th>11</th>\n",
       "      <td>7004.0</td>\n",
       "      <td>54.0</td>\n",
       "      <td>3</td>\n",
       "      <td>535.0</td>\n",
       "      <td>199</td>\n",
       "    </tr>\n",
       "    <tr>\n",
       "      <th>...</th>\n",
       "      <th>...</th>\n",
       "      <th>...</th>\n",
       "      <td>...</td>\n",
       "      <td>...</td>\n",
       "      <td>...</td>\n",
       "      <td>...</td>\n",
       "      <td>...</td>\n",
       "    </tr>\n",
       "    <tr>\n",
       "      <th rowspan=\"5\" valign=\"top\">1534</th>\n",
       "      <th rowspan=\"5\" valign=\"top\">Альберт</th>\n",
       "      <th>6</th>\n",
       "      <td>3410.0</td>\n",
       "      <td>25.0</td>\n",
       "      <td>2</td>\n",
       "      <td>308.0</td>\n",
       "      <td>0</td>\n",
       "    </tr>\n",
       "    <tr>\n",
       "      <th>8</th>\n",
       "      <td>7623.0</td>\n",
       "      <td>48.0</td>\n",
       "      <td>2</td>\n",
       "      <td>484.0</td>\n",
       "      <td>0</td>\n",
       "    </tr>\n",
       "    <tr>\n",
       "      <th>9</th>\n",
       "      <td>4929.0</td>\n",
       "      <td>23.0</td>\n",
       "      <td>1</td>\n",
       "      <td>234.0</td>\n",
       "      <td>0</td>\n",
       "    </tr>\n",
       "    <tr>\n",
       "      <th>11</th>\n",
       "      <td>13351.0</td>\n",
       "      <td>77.0</td>\n",
       "      <td>4</td>\n",
       "      <td>824.0</td>\n",
       "      <td>0</td>\n",
       "    </tr>\n",
       "    <tr>\n",
       "      <th>12</th>\n",
       "      <td>2372.0</td>\n",
       "      <td>16.0</td>\n",
       "      <td>1</td>\n",
       "      <td>178.0</td>\n",
       "      <td>0</td>\n",
       "    </tr>\n",
       "  </tbody>\n",
       "</table>\n",
       "<p>11331 rows × 5 columns</p>\n",
       "</div>"
      ],
      "text/plain": [
       "                       distance  duration_sum  rides_count   cost  \\\n",
       "user_id name    month                                               \n",
       "1       Кира    1        7028.0          42.0            2  451.0   \n",
       "                4         755.0           7.0            1  241.0   \n",
       "                8        6724.0          45.0            2  475.0   \n",
       "                10       5810.0          32.0            2  391.0   \n",
       "                11       7004.0          54.0            3  535.0   \n",
       "...                         ...           ...          ...    ...   \n",
       "1534    Альберт 6        3410.0          25.0            2  308.0   \n",
       "                8        7623.0          48.0            2  484.0   \n",
       "                9        4929.0          23.0            1  234.0   \n",
       "                11      13351.0          77.0            4  824.0   \n",
       "                12       2372.0          16.0            1  178.0   \n",
       "\n",
       "                       subscription  \n",
       "user_id name    month                \n",
       "1       Кира    1               199  \n",
       "                4               199  \n",
       "                8               199  \n",
       "                10              199  \n",
       "                11              199  \n",
       "...                             ...  \n",
       "1534    Альберт 6                 0  \n",
       "                8                 0  \n",
       "                9                 0  \n",
       "                11                0  \n",
       "                12                0  \n",
       "\n",
       "[11331 rows x 5 columns]"
      ]
     },
     "execution_count": 56,
     "metadata": {},
     "output_type": "execute_result"
    }
   ],
   "source": [
    "df_new"
   ]
  },
  {
   "cell_type": "markdown",
   "id": "41545ac0",
   "metadata": {},
   "source": [
    "#### Проверка гипотез"
   ]
  },
  {
   "cell_type": "markdown",
   "id": "a70024c7",
   "metadata": {},
   "source": [
    "##### Тратят ли пользователи с подпиской больше времени на поездки?"
   ]
  },
  {
   "cell_type": "markdown",
   "id": "cc0a65f8",
   "metadata": {},
   "source": [
    "Сформулируем нулевую и альтернативную гипотезы.\n",
    "\n",
    "$H_{0}$ -  среднее время поездки пользователя с подпиской равна общему среднему значению\n",
    "\n",
    "$H_{1}$ - среднее время поездки пользователя с подпиской больше общего среднего значения\n",
    "\n",
    "Установим статистическую значимость равно 0.05"
   ]
  },
  {
   "cell_type": "code",
   "execution_count": 57,
   "id": "1dcd2b2a",
   "metadata": {},
   "outputs": [
    {
     "name": "stdout",
     "output_type": "stream",
     "text": [
      "p-value: 1.2804098316645613e-34\n",
      "Отвергаем нулевую гипотезу\n"
     ]
    }
   ],
   "source": [
    "ultra = df_ultra['duration'] \n",
    "free = df_free['duration']\n",
    "\n",
    "alpha = 0.05\n",
    "\n",
    "results = st.ttest_ind(ultra, free, alternative = 'greater')\n",
    "\n",
    "print('p-value:', results.pvalue)\n",
    "\n",
    "if results.pvalue < alpha:    \n",
    "    print('Отвергаем нулевую гипотезу')\n",
    "else: \n",
    "   print('Не получилось отвергнуть нулевую гипотезу')"
   ]
  },
  {
   "cell_type": "markdown",
   "id": "4b947aa3",
   "metadata": {},
   "source": [
    "Получается, что мы отвергаем нулевую гипотезу и, таким образом, делаем вывод, что пользователи с подпиской действительно тратят больше времени на поездку."
   ]
  },
  {
   "cell_type": "markdown",
   "id": "dcf4770d",
   "metadata": {},
   "source": [
    "##### Среднее расстояние, которое проезжают пользователи с подпиской за одну поездку, не превышает  3130 метров?"
   ]
  },
  {
   "cell_type": "markdown",
   "id": "9e27f11e",
   "metadata": {},
   "source": [
    "Сформулируем нулевую и альтернативную гипотезы.\n",
    "\n",
    "$H_{0}$ -  среднее расстояние, которое проезжают пользователи с подпиской за одну поездку, не превышает 3130 метров\n",
    "\n",
    "$H_{1}$ - среднее расстояние, которое проезжают пользователи с подпиской за одну поездку, превышает 3130 метров\n",
    "\n",
    "Установим статистическую значимость равно 0.05"
   ]
  },
  {
   "cell_type": "code",
   "execution_count": 58,
   "id": "874dabd2",
   "metadata": {},
   "outputs": [
    {
     "data": {
      "text/html": [
       "<div>\n",
       "<style scoped>\n",
       "    .dataframe tbody tr th:only-of-type {\n",
       "        vertical-align: middle;\n",
       "    }\n",
       "\n",
       "    .dataframe tbody tr th {\n",
       "        vertical-align: top;\n",
       "    }\n",
       "\n",
       "    .dataframe thead th {\n",
       "        text-align: right;\n",
       "    }\n",
       "</style>\n",
       "<table border=\"1\" class=\"dataframe\">\n",
       "  <thead>\n",
       "    <tr style=\"text-align: right;\">\n",
       "      <th></th>\n",
       "      <th>user_id</th>\n",
       "      <th>name</th>\n",
       "      <th>age</th>\n",
       "      <th>city</th>\n",
       "      <th>subscription_type</th>\n",
       "      <th>minute_price</th>\n",
       "      <th>start_ride_price</th>\n",
       "      <th>subscription_fee</th>\n",
       "      <th>distance</th>\n",
       "      <th>duration</th>\n",
       "      <th>date</th>\n",
       "      <th>month</th>\n",
       "    </tr>\n",
       "  </thead>\n",
       "  <tbody>\n",
       "    <tr>\n",
       "      <th>0</th>\n",
       "      <td>1</td>\n",
       "      <td>Кира</td>\n",
       "      <td>22</td>\n",
       "      <td>Тюмень</td>\n",
       "      <td>ultra</td>\n",
       "      <td>6</td>\n",
       "      <td>0</td>\n",
       "      <td>199</td>\n",
       "      <td>4409.919140</td>\n",
       "      <td>25.599769</td>\n",
       "      <td>2021-01-01</td>\n",
       "      <td>1</td>\n",
       "    </tr>\n",
       "    <tr>\n",
       "      <th>1</th>\n",
       "      <td>1</td>\n",
       "      <td>Кира</td>\n",
       "      <td>22</td>\n",
       "      <td>Тюмень</td>\n",
       "      <td>ultra</td>\n",
       "      <td>6</td>\n",
       "      <td>0</td>\n",
       "      <td>199</td>\n",
       "      <td>2617.592153</td>\n",
       "      <td>15.816871</td>\n",
       "      <td>2021-01-18</td>\n",
       "      <td>1</td>\n",
       "    </tr>\n",
       "    <tr>\n",
       "      <th>2</th>\n",
       "      <td>1</td>\n",
       "      <td>Кира</td>\n",
       "      <td>22</td>\n",
       "      <td>Тюмень</td>\n",
       "      <td>ultra</td>\n",
       "      <td>6</td>\n",
       "      <td>0</td>\n",
       "      <td>199</td>\n",
       "      <td>754.159807</td>\n",
       "      <td>6.232113</td>\n",
       "      <td>2021-04-20</td>\n",
       "      <td>4</td>\n",
       "    </tr>\n",
       "    <tr>\n",
       "      <th>3</th>\n",
       "      <td>1</td>\n",
       "      <td>Кира</td>\n",
       "      <td>22</td>\n",
       "      <td>Тюмень</td>\n",
       "      <td>ultra</td>\n",
       "      <td>6</td>\n",
       "      <td>0</td>\n",
       "      <td>199</td>\n",
       "      <td>2694.783254</td>\n",
       "      <td>18.511000</td>\n",
       "      <td>2021-08-11</td>\n",
       "      <td>8</td>\n",
       "    </tr>\n",
       "    <tr>\n",
       "      <th>4</th>\n",
       "      <td>1</td>\n",
       "      <td>Кира</td>\n",
       "      <td>22</td>\n",
       "      <td>Тюмень</td>\n",
       "      <td>ultra</td>\n",
       "      <td>6</td>\n",
       "      <td>0</td>\n",
       "      <td>199</td>\n",
       "      <td>4028.687306</td>\n",
       "      <td>26.265803</td>\n",
       "      <td>2021-08-28</td>\n",
       "      <td>8</td>\n",
       "    </tr>\n",
       "    <tr>\n",
       "      <th>...</th>\n",
       "      <td>...</td>\n",
       "      <td>...</td>\n",
       "      <td>...</td>\n",
       "      <td>...</td>\n",
       "      <td>...</td>\n",
       "      <td>...</td>\n",
       "      <td>...</td>\n",
       "      <td>...</td>\n",
       "      <td>...</td>\n",
       "      <td>...</td>\n",
       "      <td>...</td>\n",
       "      <td>...</td>\n",
       "    </tr>\n",
       "    <tr>\n",
       "      <th>6495</th>\n",
       "      <td>699</td>\n",
       "      <td>Оксана</td>\n",
       "      <td>22</td>\n",
       "      <td>Москва</td>\n",
       "      <td>ultra</td>\n",
       "      <td>6</td>\n",
       "      <td>0</td>\n",
       "      <td>199</td>\n",
       "      <td>3973.046497</td>\n",
       "      <td>24.671163</td>\n",
       "      <td>2021-08-29</td>\n",
       "      <td>8</td>\n",
       "    </tr>\n",
       "    <tr>\n",
       "      <th>6496</th>\n",
       "      <td>699</td>\n",
       "      <td>Оксана</td>\n",
       "      <td>22</td>\n",
       "      <td>Москва</td>\n",
       "      <td>ultra</td>\n",
       "      <td>6</td>\n",
       "      <td>0</td>\n",
       "      <td>199</td>\n",
       "      <td>3288.702563</td>\n",
       "      <td>15.892886</td>\n",
       "      <td>2021-09-12</td>\n",
       "      <td>9</td>\n",
       "    </tr>\n",
       "    <tr>\n",
       "      <th>6497</th>\n",
       "      <td>699</td>\n",
       "      <td>Оксана</td>\n",
       "      <td>22</td>\n",
       "      <td>Москва</td>\n",
       "      <td>ultra</td>\n",
       "      <td>6</td>\n",
       "      <td>0</td>\n",
       "      <td>199</td>\n",
       "      <td>3076.159348</td>\n",
       "      <td>14.389525</td>\n",
       "      <td>2021-09-26</td>\n",
       "      <td>9</td>\n",
       "    </tr>\n",
       "    <tr>\n",
       "      <th>6498</th>\n",
       "      <td>699</td>\n",
       "      <td>Оксана</td>\n",
       "      <td>22</td>\n",
       "      <td>Москва</td>\n",
       "      <td>ultra</td>\n",
       "      <td>6</td>\n",
       "      <td>0</td>\n",
       "      <td>199</td>\n",
       "      <td>4707.845501</td>\n",
       "      <td>15.839579</td>\n",
       "      <td>2021-10-17</td>\n",
       "      <td>10</td>\n",
       "    </tr>\n",
       "    <tr>\n",
       "      <th>6499</th>\n",
       "      <td>699</td>\n",
       "      <td>Оксана</td>\n",
       "      <td>22</td>\n",
       "      <td>Москва</td>\n",
       "      <td>ultra</td>\n",
       "      <td>6</td>\n",
       "      <td>0</td>\n",
       "      <td>199</td>\n",
       "      <td>3202.890770</td>\n",
       "      <td>25.217345</td>\n",
       "      <td>2021-12-03</td>\n",
       "      <td>12</td>\n",
       "    </tr>\n",
       "  </tbody>\n",
       "</table>\n",
       "<p>6500 rows × 12 columns</p>\n",
       "</div>"
      ],
      "text/plain": [
       "      user_id    name  age    city subscription_type  minute_price  \\\n",
       "0           1    Кира   22  Тюмень             ultra             6   \n",
       "1           1    Кира   22  Тюмень             ultra             6   \n",
       "2           1    Кира   22  Тюмень             ultra             6   \n",
       "3           1    Кира   22  Тюмень             ultra             6   \n",
       "4           1    Кира   22  Тюмень             ultra             6   \n",
       "...       ...     ...  ...     ...               ...           ...   \n",
       "6495      699  Оксана   22  Москва             ultra             6   \n",
       "6496      699  Оксана   22  Москва             ultra             6   \n",
       "6497      699  Оксана   22  Москва             ultra             6   \n",
       "6498      699  Оксана   22  Москва             ultra             6   \n",
       "6499      699  Оксана   22  Москва             ultra             6   \n",
       "\n",
       "      start_ride_price  subscription_fee     distance   duration       date  \\\n",
       "0                    0               199  4409.919140  25.599769 2021-01-01   \n",
       "1                    0               199  2617.592153  15.816871 2021-01-18   \n",
       "2                    0               199   754.159807   6.232113 2021-04-20   \n",
       "3                    0               199  2694.783254  18.511000 2021-08-11   \n",
       "4                    0               199  4028.687306  26.265803 2021-08-28   \n",
       "...                ...               ...          ...        ...        ...   \n",
       "6495                 0               199  3973.046497  24.671163 2021-08-29   \n",
       "6496                 0               199  3288.702563  15.892886 2021-09-12   \n",
       "6497                 0               199  3076.159348  14.389525 2021-09-26   \n",
       "6498                 0               199  4707.845501  15.839579 2021-10-17   \n",
       "6499                 0               199  3202.890770  25.217345 2021-12-03   \n",
       "\n",
       "      month  \n",
       "0         1  \n",
       "1         1  \n",
       "2         4  \n",
       "3         8  \n",
       "4         8  \n",
       "...     ...  \n",
       "6495      8  \n",
       "6496      9  \n",
       "6497      9  \n",
       "6498     10  \n",
       "6499     12  \n",
       "\n",
       "[6500 rows x 12 columns]"
      ]
     },
     "execution_count": 58,
     "metadata": {},
     "output_type": "execute_result"
    }
   ],
   "source": [
    "df_ultra"
   ]
  },
  {
   "cell_type": "code",
   "execution_count": 59,
   "id": "5a36bf57",
   "metadata": {},
   "outputs": [
    {
     "name": "stdout",
     "output_type": "stream",
     "text": [
      "p-value: 0.9195368847849785\n",
      "Не получилось отвергнуть нулевую гипотезу\n"
     ]
    }
   ],
   "source": [
    "ultra = df_ultra['distance'] \n",
    "target=3130\n",
    "\n",
    "alpha = 0.05\n",
    "\n",
    "results = st.ttest_1samp(ultra, target, alternative = 'greater')\n",
    "\n",
    "print('p-value:', results.pvalue)\n",
    "\n",
    "if results.pvalue < alpha:    \n",
    "    print('Отвергаем нулевую гипотезу')\n",
    "else: \n",
    "   print('Не получилось отвергнуть нулевую гипотезу')"
   ]
  },
  {
   "cell_type": "markdown",
   "id": "9f67b8fa",
   "metadata": {},
   "source": [
    "#####  Будет ли помесячная выручка от пользователей с подпиской по месяцам выше, чем выручка от пользователей без подписки"
   ]
  },
  {
   "cell_type": "markdown",
   "id": "72a5a569",
   "metadata": {},
   "source": [
    "Сформулируем нулевую и альтернативную гипотезы.\n",
    "\n",
    "$H_{0}$ -  помесячная выручка от пользователей с подпиской по месяцам равна выручке от пользователей без подписки\n",
    "\n",
    "$H_{1}$ - помесячная выручка от пользователей с подпиской по месяцам выше, чем выручка от пользователей без подписки\n",
    "\n",
    "Установим статистическую значимость равной 0.05"
   ]
  },
  {
   "cell_type": "code",
   "execution_count": 60,
   "id": "3d9dc714",
   "metadata": {},
   "outputs": [
    {
     "name": "stdout",
     "output_type": "stream",
     "text": [
      "p-value: 1.8850394384715216e-31\n",
      "Отвергаем нулевую гипотезу\n"
     ]
    }
   ],
   "source": [
    "ultra=df_new[df_new['subscription']==199]['cost']\n",
    "free=df_new[df_new['subscription']==0]['cost']\n",
    "\n",
    "alpha=0.05\n",
    "\n",
    "results = st.ttest_ind(ultra, free, alternative = 'greater')\n",
    "\n",
    "print('p-value:', results.pvalue)\n",
    "\n",
    "if results.pvalue < alpha:    \n",
    "    print('Отвергаем нулевую гипотезу')\n",
    "else: \n",
    "   print('Не получилось отвергнуть нулевую гипотезу')"
   ]
  },
  {
   "cell_type": "markdown",
   "id": "733dc880",
   "metadata": {},
   "source": [
    "##### Техническая команда сервиса обновила сервера, с которыми взаимодействует мобильное приложение. Она надеется, что из-за этого количество обращений в техподдержку значимо снизилось. Некоторый файл содержит для каждого пользователя данные о количестве обращений до обновления и после него. Какой тест вам понадобился бы для проверки этой гипотезы?"
   ]
  },
  {
   "cell_type": "markdown",
   "id": "557643e0",
   "metadata": {},
   "source": [
    "Сформулируем нулевую и альтернативную гипотезы.\n",
    "\n",
    "$H_{0}$ -  среднее количество обращений до обновления равно среднему количеству обращений после обновления\n",
    "\n",
    "$H_{1}$ - реднее количество обращений до обновления больше среднего количества обращений после обновления\n",
    "\n",
    "Воспользуемся парным t-тестом scipy.stats.ttest_rel."
   ]
  },
  {
   "cell_type": "markdown",
   "id": "fb55d374",
   "metadata": {},
   "source": [
    "#### Вывод"
   ]
  },
  {
   "cell_type": "markdown",
   "id": "152d49c8",
   "metadata": {},
   "source": [
    "1. Сервисом пользуются в 8 крупных городах. Чуть больше половины пользователей оформили подписку, а 46% пользуются без подписки.\n",
    "\n",
    "2. Выручка от пользователей с подпиской выше, чем от пользователей без подписки, при этом пользователи с подпиской тратят больше времени на поездку и проезжают расстояния больше 3130 метров.\n",
    "\n",
    "3. В основном сервисом пользуется молодежь. Средний возраст пользователя 24-25 лет."
   ]
  },
  {
   "cell_type": "markdown",
   "id": "8861ea20",
   "metadata": {},
   "source": [
    "**Рекомендации:**\n",
    "1. Предлагать новым пользователям бесплатную пробную подписку с автопродлением.\n",
    "    \n",
    "2. Внедрить реферальные программы, где пользователи могут получать бонусы за привлечение друзей к подписке Ultra.\n",
    "    \n",
    "3. Расширить зоны покрытия в 8 крупных городах, особенно в местах с высокой плотностью молодежи, чтобы сделать сервис более доступным.\n",
    "    \n",
    "4. Внедрить более дешевую подписку для студентов."
   ]
  },
  {
   "cell_type": "markdown",
   "id": "5571c1eb",
   "metadata": {},
   "source": []
  },
  {
   "cell_type": "markdown",
   "id": "b5a38a0b",
   "metadata": {},
   "source": []
  }
 ],
 "metadata": {
  "ExecuteTimeLog": [
   {
    "duration": 1428,
    "start_time": "2024-07-15T13:21:15.843Z"
   },
   {
    "duration": 285,
    "start_time": "2024-07-15T13:21:17.273Z"
   },
   {
    "duration": 13,
    "start_time": "2024-07-15T13:21:35.109Z"
   },
   {
    "duration": 11,
    "start_time": "2024-07-15T13:21:43.198Z"
   },
   {
    "duration": 7,
    "start_time": "2024-07-15T13:21:51.980Z"
   },
   {
    "duration": 7,
    "start_time": "2024-07-15T13:21:57.363Z"
   },
   {
    "duration": 13,
    "start_time": "2024-07-15T13:22:24.628Z"
   },
   {
    "duration": 10,
    "start_time": "2024-07-15T13:22:29.679Z"
   },
   {
    "duration": 8,
    "start_time": "2024-07-15T13:22:34.475Z"
   },
   {
    "duration": 28,
    "start_time": "2024-07-15T13:23:26.227Z"
   },
   {
    "duration": 10,
    "start_time": "2024-07-15T13:23:35.736Z"
   },
   {
    "duration": 17,
    "start_time": "2024-07-15T13:23:37.975Z"
   },
   {
    "duration": 15,
    "start_time": "2024-07-15T13:23:41.332Z"
   },
   {
    "duration": 10,
    "start_time": "2024-07-15T13:23:45.888Z"
   },
   {
    "duration": 106,
    "start_time": "2024-07-15T13:24:46.528Z"
   },
   {
    "duration": 8,
    "start_time": "2024-07-15T13:24:52.147Z"
   },
   {
    "duration": 8,
    "start_time": "2024-07-15T13:24:57.208Z"
   },
   {
    "duration": 11,
    "start_time": "2024-07-15T13:25:01.584Z"
   },
   {
    "duration": 28,
    "start_time": "2024-07-15T13:25:33.449Z"
   },
   {
    "duration": 21,
    "start_time": "2024-07-15T13:25:42.202Z"
   },
   {
    "duration": 7,
    "start_time": "2024-07-15T13:28:34.771Z"
   },
   {
    "duration": 9,
    "start_time": "2024-07-15T13:28:44.101Z"
   },
   {
    "duration": 6,
    "start_time": "2024-07-15T13:28:48.953Z"
   },
   {
    "duration": 12,
    "start_time": "2024-07-15T13:29:32.904Z"
   },
   {
    "duration": 6,
    "start_time": "2024-07-15T13:29:36.848Z"
   },
   {
    "duration": 9,
    "start_time": "2024-07-15T13:29:43.766Z"
   },
   {
    "duration": 5,
    "start_time": "2024-07-15T13:29:51.548Z"
   },
   {
    "duration": 8,
    "start_time": "2024-07-15T13:46:55.902Z"
   },
   {
    "duration": 7,
    "start_time": "2024-07-15T13:47:11.515Z"
   },
   {
    "duration": 9,
    "start_time": "2024-07-15T13:47:16.686Z"
   },
   {
    "duration": 5,
    "start_time": "2024-07-15T13:50:28.493Z"
   },
   {
    "duration": 6,
    "start_time": "2024-07-15T13:51:11.078Z"
   },
   {
    "duration": 151,
    "start_time": "2024-07-15T13:51:48.453Z"
   },
   {
    "duration": 196,
    "start_time": "2024-07-15T13:51:58.020Z"
   },
   {
    "duration": 195,
    "start_time": "2024-07-15T13:52:02.131Z"
   },
   {
    "duration": 143,
    "start_time": "2024-07-15T13:52:07.926Z"
   },
   {
    "duration": 141,
    "start_time": "2024-07-15T13:52:11.088Z"
   },
   {
    "duration": 19,
    "start_time": "2024-07-15T13:54:07.831Z"
   },
   {
    "duration": 144,
    "start_time": "2024-07-15T13:54:25.398Z"
   },
   {
    "duration": 240,
    "start_time": "2024-07-15T13:54:36.073Z"
   },
   {
    "duration": 150,
    "start_time": "2024-07-15T13:54:39.649Z"
   },
   {
    "duration": 137,
    "start_time": "2024-07-15T13:55:44.938Z"
   },
   {
    "duration": 193,
    "start_time": "2024-07-15T13:56:01.771Z"
   },
   {
    "duration": 14,
    "start_time": "2024-07-15T14:33:19.355Z"
   },
   {
    "duration": 6,
    "start_time": "2024-07-15T14:33:26.579Z"
   },
   {
    "duration": 6,
    "start_time": "2024-07-15T14:33:55.632Z"
   },
   {
    "duration": 25,
    "start_time": "2024-07-15T14:42:47.469Z"
   },
   {
    "duration": 283,
    "start_time": "2024-07-15T14:43:15.057Z"
   },
   {
    "duration": 10,
    "start_time": "2024-07-15T14:43:43.581Z"
   },
   {
    "duration": 75,
    "start_time": "2024-07-15T14:43:48.109Z"
   },
   {
    "duration": 104,
    "start_time": "2024-07-15T14:43:57.485Z"
   },
   {
    "duration": 101,
    "start_time": "2024-07-15T14:44:19.198Z"
   },
   {
    "duration": 71,
    "start_time": "2024-07-15T14:44:54.853Z"
   },
   {
    "duration": 17,
    "start_time": "2024-07-15T15:08:22.954Z"
   },
   {
    "duration": 12,
    "start_time": "2024-07-15T15:08:38.551Z"
   },
   {
    "duration": 6,
    "start_time": "2024-07-15T15:08:47.611Z"
   },
   {
    "duration": 9,
    "start_time": "2024-07-15T15:08:57.853Z"
   },
   {
    "duration": 6,
    "start_time": "2024-07-15T15:09:01.360Z"
   },
   {
    "duration": 6,
    "start_time": "2024-07-15T15:09:05.560Z"
   },
   {
    "duration": 67,
    "start_time": "2024-07-15T15:09:48.372Z"
   },
   {
    "duration": 7,
    "start_time": "2024-07-15T15:09:55.840Z"
   },
   {
    "duration": 8,
    "start_time": "2024-07-15T15:09:56.018Z"
   },
   {
    "duration": 5,
    "start_time": "2024-07-15T15:09:56.575Z"
   },
   {
    "duration": 179,
    "start_time": "2024-07-15T15:10:19.032Z"
   },
   {
    "duration": 260,
    "start_time": "2024-07-15T15:46:50.366Z"
   },
   {
    "duration": 217,
    "start_time": "2024-07-15T15:46:58.967Z"
   },
   {
    "duration": 229,
    "start_time": "2024-07-15T15:47:08.153Z"
   },
   {
    "duration": 4,
    "start_time": "2024-07-15T15:48:07.012Z"
   },
   {
    "duration": 6,
    "start_time": "2024-07-15T15:48:24.852Z"
   },
   {
    "duration": 8,
    "start_time": "2024-07-15T15:48:39.304Z"
   },
   {
    "duration": 12,
    "start_time": "2024-07-15T15:49:07.342Z"
   },
   {
    "duration": 314,
    "start_time": "2024-07-15T15:51:06.238Z"
   },
   {
    "duration": 227,
    "start_time": "2024-07-15T15:55:08.842Z"
   },
   {
    "duration": 10,
    "start_time": "2024-07-15T15:57:00.865Z"
   },
   {
    "duration": 63,
    "start_time": "2024-07-15T16:06:30.645Z"
   },
   {
    "duration": 13,
    "start_time": "2024-07-15T16:06:34.623Z"
   },
   {
    "duration": 7,
    "start_time": "2024-07-15T16:06:40.912Z"
   },
   {
    "duration": 68,
    "start_time": "2024-07-15T21:29:05.647Z"
   },
   {
    "duration": 1583,
    "start_time": "2024-07-15T21:29:33.756Z"
   },
   {
    "duration": 300,
    "start_time": "2024-07-15T21:29:35.341Z"
   },
   {
    "duration": 14,
    "start_time": "2024-07-15T21:29:35.643Z"
   },
   {
    "duration": 22,
    "start_time": "2024-07-15T21:29:35.658Z"
   },
   {
    "duration": 63,
    "start_time": "2024-07-15T21:29:35.682Z"
   },
   {
    "duration": 16,
    "start_time": "2024-07-15T21:29:35.747Z"
   },
   {
    "duration": 17,
    "start_time": "2024-07-15T21:29:35.765Z"
   },
   {
    "duration": 25,
    "start_time": "2024-07-15T21:29:35.784Z"
   },
   {
    "duration": 30,
    "start_time": "2024-07-15T21:29:35.816Z"
   },
   {
    "duration": 11,
    "start_time": "2024-07-15T21:29:35.849Z"
   },
   {
    "duration": 23,
    "start_time": "2024-07-15T21:29:35.863Z"
   },
   {
    "duration": 30,
    "start_time": "2024-07-15T21:29:35.894Z"
   },
   {
    "duration": 19,
    "start_time": "2024-07-15T21:29:35.926Z"
   },
   {
    "duration": 8,
    "start_time": "2024-07-15T21:29:35.948Z"
   },
   {
    "duration": 6,
    "start_time": "2024-07-15T21:29:35.958Z"
   },
   {
    "duration": 18,
    "start_time": "2024-07-15T21:29:35.966Z"
   },
   {
    "duration": 22,
    "start_time": "2024-07-15T21:29:35.985Z"
   },
   {
    "duration": 32,
    "start_time": "2024-07-15T21:29:36.009Z"
   },
   {
    "duration": 249,
    "start_time": "2024-07-15T21:29:36.043Z"
   },
   {
    "duration": 12,
    "start_time": "2024-07-15T21:29:36.302Z"
   },
   {
    "duration": 27,
    "start_time": "2024-07-15T21:29:36.315Z"
   },
   {
    "duration": 228,
    "start_time": "2024-07-15T21:29:36.343Z"
   },
   {
    "duration": 18,
    "start_time": "2024-07-15T21:29:36.572Z"
   },
   {
    "duration": 31,
    "start_time": "2024-07-15T21:29:36.593Z"
   },
   {
    "duration": 25,
    "start_time": "2024-07-15T21:29:36.625Z"
   },
   {
    "duration": 200,
    "start_time": "2024-07-15T21:29:36.652Z"
   },
   {
    "duration": 245,
    "start_time": "2024-07-15T21:29:36.854Z"
   },
   {
    "duration": 10,
    "start_time": "2024-07-15T21:29:37.101Z"
   },
   {
    "duration": 256,
    "start_time": "2024-07-15T21:29:37.112Z"
   },
   {
    "duration": 25,
    "start_time": "2024-07-15T21:29:37.370Z"
   },
   {
    "duration": 13,
    "start_time": "2024-07-15T21:29:37.409Z"
   },
   {
    "duration": 7,
    "start_time": "2024-07-15T21:29:49.509Z"
   },
   {
    "duration": 15,
    "start_time": "2024-07-15T22:07:13.801Z"
   },
   {
    "duration": 10,
    "start_time": "2024-07-15T22:08:21.892Z"
   },
   {
    "duration": 14,
    "start_time": "2024-07-15T22:08:30.326Z"
   },
   {
    "duration": 6,
    "start_time": "2024-07-15T22:08:41.315Z"
   },
   {
    "duration": 13,
    "start_time": "2024-07-15T22:08:50.196Z"
   },
   {
    "duration": 7,
    "start_time": "2024-07-15T22:10:07.908Z"
   },
   {
    "duration": 13,
    "start_time": "2024-07-15T22:10:08.196Z"
   },
   {
    "duration": 5,
    "start_time": "2024-07-15T22:10:08.914Z"
   },
   {
    "duration": 13,
    "start_time": "2024-07-15T22:10:09.612Z"
   },
   {
    "duration": 234,
    "start_time": "2024-07-15T22:10:45.599Z"
   },
   {
    "duration": 264,
    "start_time": "2024-07-15T22:11:08.347Z"
   },
   {
    "duration": 192,
    "start_time": "2024-07-15T22:11:33.430Z"
   },
   {
    "duration": 197,
    "start_time": "2024-07-15T22:11:53.073Z"
   },
   {
    "duration": 242,
    "start_time": "2024-07-15T22:12:03.276Z"
   },
   {
    "duration": 44,
    "start_time": "2024-07-16T07:34:29.373Z"
   },
   {
    "duration": 1305,
    "start_time": "2024-07-16T07:34:34.663Z"
   },
   {
    "duration": 351,
    "start_time": "2024-07-16T07:34:35.970Z"
   },
   {
    "duration": 11,
    "start_time": "2024-07-16T07:34:36.323Z"
   },
   {
    "duration": 21,
    "start_time": "2024-07-16T07:34:36.335Z"
   },
   {
    "duration": 9,
    "start_time": "2024-07-16T07:34:36.358Z"
   },
   {
    "duration": 11,
    "start_time": "2024-07-16T07:34:37.316Z"
   },
   {
    "duration": 11,
    "start_time": "2024-07-16T07:34:37.484Z"
   },
   {
    "duration": 10,
    "start_time": "2024-07-16T07:34:38.520Z"
   },
   {
    "duration": 15,
    "start_time": "2024-07-16T07:34:39.331Z"
   },
   {
    "duration": 7,
    "start_time": "2024-07-16T07:34:39.851Z"
   },
   {
    "duration": 7,
    "start_time": "2024-07-16T07:34:40.120Z"
   },
   {
    "duration": 6,
    "start_time": "2024-07-16T07:34:40.283Z"
   },
   {
    "duration": 6,
    "start_time": "2024-07-16T07:34:40.663Z"
   },
   {
    "duration": 8,
    "start_time": "2024-07-16T07:34:40.826Z"
   },
   {
    "duration": 5,
    "start_time": "2024-07-16T07:34:41.001Z"
   },
   {
    "duration": 7,
    "start_time": "2024-07-16T07:34:41.350Z"
   },
   {
    "duration": 4,
    "start_time": "2024-07-16T07:34:42.209Z"
   },
   {
    "duration": 5,
    "start_time": "2024-07-16T07:34:42.385Z"
   },
   {
    "duration": 168,
    "start_time": "2024-07-16T07:34:42.549Z"
   },
   {
    "duration": 5,
    "start_time": "2024-07-16T07:34:43.821Z"
   },
   {
    "duration": 8,
    "start_time": "2024-07-16T07:34:44.052Z"
   },
   {
    "duration": 95,
    "start_time": "2024-07-16T07:34:44.270Z"
   },
   {
    "duration": 6,
    "start_time": "2024-07-16T07:34:45.308Z"
   },
   {
    "duration": 6,
    "start_time": "2024-07-16T07:34:45.589Z"
   },
   {
    "duration": 4,
    "start_time": "2024-07-16T07:34:45.967Z"
   },
   {
    "duration": 151,
    "start_time": "2024-07-16T07:34:46.267Z"
   },
   {
    "duration": 201,
    "start_time": "2024-07-16T07:34:47.066Z"
   },
   {
    "duration": 8,
    "start_time": "2024-07-16T07:34:47.338Z"
   },
   {
    "duration": 187,
    "start_time": "2024-07-16T07:34:48.249Z"
   },
   {
    "duration": 7,
    "start_time": "2024-07-16T07:34:48.438Z"
   },
   {
    "duration": 11,
    "start_time": "2024-07-16T07:34:49.367Z"
   },
   {
    "duration": 6,
    "start_time": "2024-07-16T07:34:50.030Z"
   },
   {
    "duration": 11,
    "start_time": "2024-07-16T07:34:50.430Z"
   },
   {
    "duration": 5,
    "start_time": "2024-07-16T07:34:50.566Z"
   },
   {
    "duration": 11,
    "start_time": "2024-07-16T07:34:51.072Z"
   },
   {
    "duration": 182,
    "start_time": "2024-07-16T07:34:51.533Z"
   },
   {
    "duration": 191,
    "start_time": "2024-07-16T07:34:51.868Z"
   },
   {
    "duration": 167,
    "start_time": "2024-07-16T07:34:52.795Z"
   },
   {
    "duration": 204,
    "start_time": "2024-07-16T07:34:53.181Z"
   },
   {
    "duration": 66,
    "start_time": "2024-07-16T07:34:54.323Z"
   },
   {
    "duration": 79,
    "start_time": "2024-07-16T07:35:20.230Z"
   },
   {
    "duration": 10,
    "start_time": "2024-07-16T07:35:35.783Z"
   },
   {
    "duration": 8,
    "start_time": "2024-07-16T07:36:32.711Z"
   },
   {
    "duration": 12,
    "start_time": "2024-07-16T07:36:43.516Z"
   },
   {
    "duration": 7,
    "start_time": "2024-07-16T07:36:50.270Z"
   },
   {
    "duration": 8,
    "start_time": "2024-07-16T07:37:22.710Z"
   },
   {
    "duration": 7,
    "start_time": "2024-07-16T07:37:32.023Z"
   },
   {
    "duration": 7,
    "start_time": "2024-07-16T07:37:33.850Z"
   },
   {
    "duration": 1193,
    "start_time": "2024-07-16T07:38:00.062Z"
   },
   {
    "duration": 8,
    "start_time": "2024-07-16T07:38:08.978Z"
   },
   {
    "duration": 7,
    "start_time": "2024-07-16T07:38:11.992Z"
   },
   {
    "duration": 4,
    "start_time": "2024-07-16T07:38:24.966Z"
   },
   {
    "duration": 7,
    "start_time": "2024-07-16T07:38:26.088Z"
   },
   {
    "duration": 1303,
    "start_time": "2024-07-16T13:51:51.280Z"
   },
   {
    "duration": 407,
    "start_time": "2024-07-16T13:51:52.585Z"
   },
   {
    "duration": 11,
    "start_time": "2024-07-16T13:51:52.994Z"
   },
   {
    "duration": 10,
    "start_time": "2024-07-16T13:51:53.007Z"
   },
   {
    "duration": 17,
    "start_time": "2024-07-16T13:51:53.018Z"
   },
   {
    "duration": 11,
    "start_time": "2024-07-16T13:51:53.036Z"
   },
   {
    "duration": 11,
    "start_time": "2024-07-16T13:51:53.049Z"
   },
   {
    "duration": 10,
    "start_time": "2024-07-16T13:51:53.061Z"
   },
   {
    "duration": 36,
    "start_time": "2024-07-16T13:51:53.072Z"
   },
   {
    "duration": 6,
    "start_time": "2024-07-16T13:51:53.110Z"
   },
   {
    "duration": 7,
    "start_time": "2024-07-16T13:51:53.117Z"
   },
   {
    "duration": 5,
    "start_time": "2024-07-16T13:51:53.125Z"
   },
   {
    "duration": 13,
    "start_time": "2024-07-16T13:51:53.132Z"
   },
   {
    "duration": 27,
    "start_time": "2024-07-16T13:51:53.147Z"
   },
   {
    "duration": 4,
    "start_time": "2024-07-16T13:51:53.176Z"
   },
   {
    "duration": 20,
    "start_time": "2024-07-16T13:51:53.181Z"
   },
   {
    "duration": 4,
    "start_time": "2024-07-16T13:51:53.202Z"
   },
   {
    "duration": 6,
    "start_time": "2024-07-16T13:51:53.207Z"
   },
   {
    "duration": 185,
    "start_time": "2024-07-16T13:51:53.214Z"
   },
   {
    "duration": 5,
    "start_time": "2024-07-16T13:51:53.401Z"
   },
   {
    "duration": 9,
    "start_time": "2024-07-16T13:51:53.407Z"
   },
   {
    "duration": 110,
    "start_time": "2024-07-16T13:51:53.417Z"
   },
   {
    "duration": 5,
    "start_time": "2024-07-16T13:51:53.529Z"
   },
   {
    "duration": 6,
    "start_time": "2024-07-16T13:51:53.535Z"
   },
   {
    "duration": 15,
    "start_time": "2024-07-16T13:51:53.542Z"
   },
   {
    "duration": 168,
    "start_time": "2024-07-16T13:51:53.558Z"
   },
   {
    "duration": 201,
    "start_time": "2024-07-16T13:51:53.727Z"
   },
   {
    "duration": 8,
    "start_time": "2024-07-16T13:51:53.931Z"
   },
   {
    "duration": 209,
    "start_time": "2024-07-16T13:51:53.941Z"
   },
   {
    "duration": 8,
    "start_time": "2024-07-16T13:51:54.152Z"
   },
   {
    "duration": 11,
    "start_time": "2024-07-16T13:51:54.161Z"
   },
   {
    "duration": 6,
    "start_time": "2024-07-16T13:51:54.173Z"
   },
   {
    "duration": 26,
    "start_time": "2024-07-16T13:51:54.180Z"
   },
   {
    "duration": 20,
    "start_time": "2024-07-16T13:51:54.207Z"
   },
   {
    "duration": 10,
    "start_time": "2024-07-16T13:51:54.229Z"
   },
   {
    "duration": 181,
    "start_time": "2024-07-16T13:51:54.241Z"
   },
   {
    "duration": 216,
    "start_time": "2024-07-16T13:51:54.424Z"
   },
   {
    "duration": 173,
    "start_time": "2024-07-16T13:51:54.642Z"
   },
   {
    "duration": 191,
    "start_time": "2024-07-16T13:51:54.816Z"
   },
   {
    "duration": 8,
    "start_time": "2024-07-16T13:51:55.010Z"
   },
   {
    "duration": 3,
    "start_time": "2024-07-16T13:51:55.019Z"
   },
   {
    "duration": 8,
    "start_time": "2024-07-16T13:51:55.025Z"
   },
   {
    "duration": 93,
    "start_time": "2024-07-16T13:54:11.905Z"
   },
   {
    "duration": 82,
    "start_time": "2024-07-16T13:54:23.236Z"
   },
   {
    "duration": 8,
    "start_time": "2024-07-16T13:54:29.856Z"
   },
   {
    "duration": 9,
    "start_time": "2024-07-16T13:54:55.816Z"
   },
   {
    "duration": 3,
    "start_time": "2024-07-16T13:54:56.267Z"
   },
   {
    "duration": 8,
    "start_time": "2024-07-16T13:54:56.543Z"
   },
   {
    "duration": 26,
    "start_time": "2024-07-16T13:54:57.058Z"
   },
   {
    "duration": 8,
    "start_time": "2024-07-16T13:54:58.511Z"
   },
   {
    "duration": 1140,
    "start_time": "2024-07-16T13:55:57.271Z"
   },
   {
    "duration": 76,
    "start_time": "2024-07-16T13:55:58.413Z"
   },
   {
    "duration": 10,
    "start_time": "2024-07-16T13:55:58.491Z"
   },
   {
    "duration": 7,
    "start_time": "2024-07-16T13:55:58.503Z"
   },
   {
    "duration": 7,
    "start_time": "2024-07-16T13:55:58.511Z"
   },
   {
    "duration": 11,
    "start_time": "2024-07-16T13:55:58.519Z"
   },
   {
    "duration": 10,
    "start_time": "2024-07-16T13:55:58.531Z"
   },
   {
    "duration": 9,
    "start_time": "2024-07-16T13:55:58.543Z"
   },
   {
    "duration": 47,
    "start_time": "2024-07-16T13:55:58.554Z"
   },
   {
    "duration": 6,
    "start_time": "2024-07-16T13:55:58.603Z"
   },
   {
    "duration": 15,
    "start_time": "2024-07-16T13:55:58.610Z"
   },
   {
    "duration": 5,
    "start_time": "2024-07-16T13:55:58.626Z"
   },
   {
    "duration": 11,
    "start_time": "2024-07-16T13:55:58.632Z"
   },
   {
    "duration": 19,
    "start_time": "2024-07-16T13:55:58.645Z"
   },
   {
    "duration": 4,
    "start_time": "2024-07-16T13:55:58.665Z"
   },
   {
    "duration": 7,
    "start_time": "2024-07-16T13:55:58.671Z"
   },
   {
    "duration": 3,
    "start_time": "2024-07-16T13:55:58.680Z"
   },
   {
    "duration": 14,
    "start_time": "2024-07-16T13:55:58.684Z"
   },
   {
    "duration": 169,
    "start_time": "2024-07-16T13:55:58.699Z"
   },
   {
    "duration": 5,
    "start_time": "2024-07-16T13:55:58.869Z"
   },
   {
    "duration": 9,
    "start_time": "2024-07-16T13:55:58.876Z"
   },
   {
    "duration": 116,
    "start_time": "2024-07-16T13:55:58.898Z"
   },
   {
    "duration": 5,
    "start_time": "2024-07-16T13:55:59.015Z"
   },
   {
    "duration": 6,
    "start_time": "2024-07-16T13:55:59.021Z"
   },
   {
    "duration": 5,
    "start_time": "2024-07-16T13:55:59.028Z"
   },
   {
    "duration": 165,
    "start_time": "2024-07-16T13:55:59.034Z"
   },
   {
    "duration": 199,
    "start_time": "2024-07-16T13:55:59.200Z"
   },
   {
    "duration": 8,
    "start_time": "2024-07-16T13:55:59.402Z"
   },
   {
    "duration": 201,
    "start_time": "2024-07-16T13:55:59.411Z"
   },
   {
    "duration": 8,
    "start_time": "2024-07-16T13:55:59.613Z"
   },
   {
    "duration": 11,
    "start_time": "2024-07-16T13:55:59.622Z"
   },
   {
    "duration": 6,
    "start_time": "2024-07-16T13:55:59.635Z"
   },
   {
    "duration": 11,
    "start_time": "2024-07-16T13:55:59.643Z"
   },
   {
    "duration": 5,
    "start_time": "2024-07-16T13:55:59.656Z"
   },
   {
    "duration": 43,
    "start_time": "2024-07-16T13:55:59.662Z"
   },
   {
    "duration": 188,
    "start_time": "2024-07-16T13:55:59.707Z"
   },
   {
    "duration": 194,
    "start_time": "2024-07-16T13:55:59.898Z"
   },
   {
    "duration": 182,
    "start_time": "2024-07-16T13:56:00.093Z"
   },
   {
    "duration": 194,
    "start_time": "2024-07-16T13:56:00.277Z"
   },
   {
    "duration": 11,
    "start_time": "2024-07-16T13:56:00.473Z"
   },
   {
    "duration": 46,
    "start_time": "2024-07-16T13:56:00.485Z"
   },
   {
    "duration": 47,
    "start_time": "2024-07-16T13:56:00.532Z"
   },
   {
    "duration": 180,
    "start_time": "2024-07-16T13:56:00.581Z"
   },
   {
    "duration": 8,
    "start_time": "2024-07-16T13:56:00.762Z"
   },
   {
    "duration": 11,
    "start_time": "2024-07-16T13:56:07.017Z"
   },
   {
    "duration": 1135,
    "start_time": "2024-07-16T13:57:31.891Z"
   },
   {
    "duration": 77,
    "start_time": "2024-07-16T13:57:33.028Z"
   },
   {
    "duration": 12,
    "start_time": "2024-07-16T13:57:33.106Z"
   },
   {
    "duration": 10,
    "start_time": "2024-07-16T13:57:33.120Z"
   },
   {
    "duration": 9,
    "start_time": "2024-07-16T13:57:33.132Z"
   },
   {
    "duration": 11,
    "start_time": "2024-07-16T13:57:33.143Z"
   },
   {
    "duration": 16,
    "start_time": "2024-07-16T13:57:33.155Z"
   },
   {
    "duration": 9,
    "start_time": "2024-07-16T13:57:33.172Z"
   },
   {
    "duration": 15,
    "start_time": "2024-07-16T13:57:33.198Z"
   },
   {
    "duration": 6,
    "start_time": "2024-07-16T13:57:33.214Z"
   },
   {
    "duration": 13,
    "start_time": "2024-07-16T13:57:33.222Z"
   },
   {
    "duration": 6,
    "start_time": "2024-07-16T13:57:33.236Z"
   },
   {
    "duration": 5,
    "start_time": "2024-07-16T13:57:33.243Z"
   },
   {
    "duration": 8,
    "start_time": "2024-07-16T13:57:33.251Z"
   },
   {
    "duration": 5,
    "start_time": "2024-07-16T13:57:33.260Z"
   },
   {
    "duration": 8,
    "start_time": "2024-07-16T13:57:33.298Z"
   },
   {
    "duration": 4,
    "start_time": "2024-07-16T13:57:33.307Z"
   },
   {
    "duration": 5,
    "start_time": "2024-07-16T13:57:33.313Z"
   },
   {
    "duration": 185,
    "start_time": "2024-07-16T13:57:33.319Z"
   },
   {
    "duration": 5,
    "start_time": "2024-07-16T13:57:33.506Z"
   },
   {
    "duration": 7,
    "start_time": "2024-07-16T13:57:33.512Z"
   },
   {
    "duration": 110,
    "start_time": "2024-07-16T13:57:33.520Z"
   },
   {
    "duration": 5,
    "start_time": "2024-07-16T13:57:33.631Z"
   },
   {
    "duration": 6,
    "start_time": "2024-07-16T13:57:33.637Z"
   },
   {
    "duration": 4,
    "start_time": "2024-07-16T13:57:33.645Z"
   },
   {
    "duration": 168,
    "start_time": "2024-07-16T13:57:33.651Z"
   },
   {
    "duration": 205,
    "start_time": "2024-07-16T13:57:33.821Z"
   },
   {
    "duration": 8,
    "start_time": "2024-07-16T13:57:34.027Z"
   },
   {
    "duration": 209,
    "start_time": "2024-07-16T13:57:34.037Z"
   },
   {
    "duration": 8,
    "start_time": "2024-07-16T13:57:34.248Z"
   },
   {
    "duration": 12,
    "start_time": "2024-07-16T13:57:34.257Z"
   },
   {
    "duration": 6,
    "start_time": "2024-07-16T13:57:34.270Z"
   },
   {
    "duration": 30,
    "start_time": "2024-07-16T13:57:34.277Z"
   },
   {
    "duration": 6,
    "start_time": "2024-07-16T13:57:34.309Z"
   },
   {
    "duration": 10,
    "start_time": "2024-07-16T13:57:34.316Z"
   },
   {
    "duration": 197,
    "start_time": "2024-07-16T13:57:34.328Z"
   },
   {
    "duration": 227,
    "start_time": "2024-07-16T13:57:34.526Z"
   },
   {
    "duration": 177,
    "start_time": "2024-07-16T13:57:34.754Z"
   },
   {
    "duration": 192,
    "start_time": "2024-07-16T13:57:34.933Z"
   },
   {
    "duration": 7,
    "start_time": "2024-07-16T13:57:35.126Z"
   },
   {
    "duration": 13,
    "start_time": "2024-07-16T13:57:35.136Z"
   },
   {
    "duration": 41,
    "start_time": "2024-07-16T13:57:35.150Z"
   },
   {
    "duration": 13,
    "start_time": "2024-07-16T13:57:35.193Z"
   },
   {
    "duration": 10,
    "start_time": "2024-07-16T13:57:35.207Z"
   },
   {
    "duration": 1136,
    "start_time": "2024-07-16T13:58:15.970Z"
   },
   {
    "duration": 78,
    "start_time": "2024-07-16T13:58:17.107Z"
   },
   {
    "duration": 12,
    "start_time": "2024-07-16T13:58:17.187Z"
   },
   {
    "duration": 13,
    "start_time": "2024-07-16T13:58:17.201Z"
   },
   {
    "duration": 7,
    "start_time": "2024-07-16T13:58:17.216Z"
   },
   {
    "duration": 11,
    "start_time": "2024-07-16T13:58:17.224Z"
   },
   {
    "duration": 11,
    "start_time": "2024-07-16T13:58:17.236Z"
   },
   {
    "duration": 9,
    "start_time": "2024-07-16T13:58:17.249Z"
   },
   {
    "duration": 45,
    "start_time": "2024-07-16T13:58:17.260Z"
   },
   {
    "duration": 5,
    "start_time": "2024-07-16T13:58:17.308Z"
   },
   {
    "duration": 8,
    "start_time": "2024-07-16T13:58:17.315Z"
   },
   {
    "duration": 7,
    "start_time": "2024-07-16T13:58:17.324Z"
   },
   {
    "duration": 6,
    "start_time": "2024-07-16T13:58:17.332Z"
   },
   {
    "duration": 16,
    "start_time": "2024-07-16T13:58:17.340Z"
   },
   {
    "duration": 5,
    "start_time": "2024-07-16T13:58:17.357Z"
   },
   {
    "duration": 8,
    "start_time": "2024-07-16T13:58:17.397Z"
   },
   {
    "duration": 5,
    "start_time": "2024-07-16T13:58:17.407Z"
   },
   {
    "duration": 6,
    "start_time": "2024-07-16T13:58:17.413Z"
   },
   {
    "duration": 196,
    "start_time": "2024-07-16T13:58:17.421Z"
   },
   {
    "duration": 6,
    "start_time": "2024-07-16T13:58:17.619Z"
   },
   {
    "duration": 8,
    "start_time": "2024-07-16T13:58:17.626Z"
   },
   {
    "duration": 115,
    "start_time": "2024-07-16T13:58:17.635Z"
   },
   {
    "duration": 5,
    "start_time": "2024-07-16T13:58:17.751Z"
   },
   {
    "duration": 7,
    "start_time": "2024-07-16T13:58:17.758Z"
   },
   {
    "duration": 5,
    "start_time": "2024-07-16T13:58:17.766Z"
   },
   {
    "duration": 176,
    "start_time": "2024-07-16T13:58:17.773Z"
   },
   {
    "duration": 199,
    "start_time": "2024-07-16T13:58:17.950Z"
   },
   {
    "duration": 7,
    "start_time": "2024-07-16T13:58:18.153Z"
   },
   {
    "duration": 203,
    "start_time": "2024-07-16T13:58:18.161Z"
   },
   {
    "duration": 8,
    "start_time": "2024-07-16T13:58:18.365Z"
   },
   {
    "duration": 23,
    "start_time": "2024-07-16T13:58:18.375Z"
   },
   {
    "duration": 6,
    "start_time": "2024-07-16T13:58:18.399Z"
   },
   {
    "duration": 11,
    "start_time": "2024-07-16T13:58:18.406Z"
   },
   {
    "duration": 5,
    "start_time": "2024-07-16T13:58:18.418Z"
   },
   {
    "duration": 12,
    "start_time": "2024-07-16T13:58:18.424Z"
   },
   {
    "duration": 203,
    "start_time": "2024-07-16T13:58:18.437Z"
   },
   {
    "duration": 192,
    "start_time": "2024-07-16T13:58:18.641Z"
   },
   {
    "duration": 166,
    "start_time": "2024-07-16T13:58:18.834Z"
   },
   {
    "duration": 190,
    "start_time": "2024-07-16T13:58:19.002Z"
   },
   {
    "duration": 11,
    "start_time": "2024-07-16T13:58:19.193Z"
   },
   {
    "duration": 3,
    "start_time": "2024-07-16T13:58:19.205Z"
   },
   {
    "duration": 10,
    "start_time": "2024-07-16T13:58:19.209Z"
   },
   {
    "duration": 21,
    "start_time": "2024-07-16T13:58:19.220Z"
   },
   {
    "duration": 10,
    "start_time": "2024-07-16T13:58:19.242Z"
   },
   {
    "duration": 18,
    "start_time": "2024-07-16T13:58:56.461Z"
   },
   {
    "duration": 11,
    "start_time": "2024-07-16T13:58:56.637Z"
   },
   {
    "duration": 1132,
    "start_time": "2024-07-16T14:08:01.512Z"
   },
   {
    "duration": 3,
    "start_time": "2024-07-16T14:08:15.220Z"
   },
   {
    "duration": 4,
    "start_time": "2024-07-16T14:09:35.714Z"
   },
   {
    "duration": 20,
    "start_time": "2024-07-16T14:09:38.035Z"
   },
   {
    "duration": 986,
    "start_time": "2024-07-16T14:10:04.749Z"
   },
   {
    "duration": 5,
    "start_time": "2024-07-16T14:10:14.612Z"
   },
   {
    "duration": 4,
    "start_time": "2024-07-16T14:10:15.512Z"
   },
   {
    "duration": 20,
    "start_time": "2024-07-16T14:10:16.186Z"
   },
   {
    "duration": 21,
    "start_time": "2024-07-16T14:12:08.212Z"
   },
   {
    "duration": 19,
    "start_time": "2024-07-16T14:12:15.714Z"
   },
   {
    "duration": 19,
    "start_time": "2024-07-16T14:12:21.269Z"
   },
   {
    "duration": 82,
    "start_time": "2024-07-16T14:12:26.096Z"
   },
   {
    "duration": 20,
    "start_time": "2024-07-16T14:13:11.173Z"
   },
   {
    "duration": 18,
    "start_time": "2024-07-16T14:13:11.537Z"
   },
   {
    "duration": 60,
    "start_time": "2024-07-16T14:14:11.749Z"
   },
   {
    "duration": 1300,
    "start_time": "2024-07-16T21:32:06.785Z"
   },
   {
    "duration": 298,
    "start_time": "2024-07-16T21:32:08.087Z"
   },
   {
    "duration": 12,
    "start_time": "2024-07-16T21:32:08.387Z"
   },
   {
    "duration": 8,
    "start_time": "2024-07-16T21:32:08.400Z"
   },
   {
    "duration": 7,
    "start_time": "2024-07-16T21:32:08.410Z"
   },
   {
    "duration": 11,
    "start_time": "2024-07-16T21:32:08.418Z"
   },
   {
    "duration": 28,
    "start_time": "2024-07-16T21:32:08.431Z"
   },
   {
    "duration": 9,
    "start_time": "2024-07-16T21:32:08.460Z"
   },
   {
    "duration": 16,
    "start_time": "2024-07-16T21:32:08.471Z"
   },
   {
    "duration": 6,
    "start_time": "2024-07-16T21:32:08.488Z"
   },
   {
    "duration": 10,
    "start_time": "2024-07-16T21:32:08.495Z"
   },
   {
    "duration": 5,
    "start_time": "2024-07-16T21:32:08.507Z"
   },
   {
    "duration": 12,
    "start_time": "2024-07-16T21:32:08.513Z"
   },
   {
    "duration": 8,
    "start_time": "2024-07-16T21:32:08.537Z"
   },
   {
    "duration": 4,
    "start_time": "2024-07-16T21:32:08.546Z"
   },
   {
    "duration": 8,
    "start_time": "2024-07-16T21:32:08.551Z"
   },
   {
    "duration": 4,
    "start_time": "2024-07-16T21:32:08.560Z"
   },
   {
    "duration": 7,
    "start_time": "2024-07-16T21:32:08.566Z"
   },
   {
    "duration": 203,
    "start_time": "2024-07-16T21:32:08.574Z"
   },
   {
    "duration": 7,
    "start_time": "2024-07-16T21:32:08.779Z"
   },
   {
    "duration": 19,
    "start_time": "2024-07-16T21:32:08.788Z"
   },
   {
    "duration": 105,
    "start_time": "2024-07-16T21:32:08.809Z"
   },
   {
    "duration": 5,
    "start_time": "2024-07-16T21:32:08.915Z"
   },
   {
    "duration": 17,
    "start_time": "2024-07-16T21:32:08.921Z"
   },
   {
    "duration": 4,
    "start_time": "2024-07-16T21:32:08.939Z"
   },
   {
    "duration": 172,
    "start_time": "2024-07-16T21:32:08.944Z"
   },
   {
    "duration": 216,
    "start_time": "2024-07-16T21:32:09.118Z"
   },
   {
    "duration": 8,
    "start_time": "2024-07-16T21:32:09.336Z"
   },
   {
    "duration": 214,
    "start_time": "2024-07-16T21:32:09.346Z"
   },
   {
    "duration": 8,
    "start_time": "2024-07-16T21:32:09.562Z"
   },
   {
    "duration": 15,
    "start_time": "2024-07-16T21:32:09.572Z"
   },
   {
    "duration": 6,
    "start_time": "2024-07-16T21:32:09.589Z"
   },
   {
    "duration": 12,
    "start_time": "2024-07-16T21:32:09.596Z"
   },
   {
    "duration": 27,
    "start_time": "2024-07-16T21:32:09.610Z"
   },
   {
    "duration": 25,
    "start_time": "2024-07-16T21:32:09.639Z"
   },
   {
    "duration": 178,
    "start_time": "2024-07-16T21:32:09.666Z"
   },
   {
    "duration": 203,
    "start_time": "2024-07-16T21:32:09.845Z"
   },
   {
    "duration": 182,
    "start_time": "2024-07-16T21:32:10.049Z"
   },
   {
    "duration": 200,
    "start_time": "2024-07-16T21:32:10.237Z"
   },
   {
    "duration": 10,
    "start_time": "2024-07-16T21:32:10.439Z"
   },
   {
    "duration": 62,
    "start_time": "2024-07-16T21:32:10.452Z"
   },
   {
    "duration": 13,
    "start_time": "2024-07-16T21:32:10.516Z"
   },
   {
    "duration": 21,
    "start_time": "2024-07-16T21:32:10.531Z"
   },
   {
    "duration": 10,
    "start_time": "2024-07-16T21:32:10.554Z"
   },
   {
    "duration": 7,
    "start_time": "2024-07-16T21:32:10.566Z"
   },
   {
    "duration": 5,
    "start_time": "2024-07-16T21:32:10.575Z"
   },
   {
    "duration": 23,
    "start_time": "2024-07-16T21:32:10.581Z"
   },
   {
    "duration": 45,
    "start_time": "2024-07-16T21:32:10.606Z"
   },
   {
    "duration": 94,
    "start_time": "2024-07-16T21:32:10.653Z"
   },
   {
    "duration": 4,
    "start_time": "2024-07-16T21:34:07.123Z"
   },
   {
    "duration": 21,
    "start_time": "2024-07-16T21:34:08.337Z"
   },
   {
    "duration": 19,
    "start_time": "2024-07-16T21:34:09.693Z"
   },
   {
    "duration": 20,
    "start_time": "2024-07-16T21:34:10.150Z"
   },
   {
    "duration": 7,
    "start_time": "2024-07-16T21:40:33.727Z"
   },
   {
    "duration": 61,
    "start_time": "2024-07-16T21:41:44.549Z"
   },
   {
    "duration": 3,
    "start_time": "2024-07-16T21:42:38.070Z"
   },
   {
    "duration": 67,
    "start_time": "2024-07-16T21:42:38.901Z"
   },
   {
    "duration": 8,
    "start_time": "2024-07-16T21:42:38.969Z"
   },
   {
    "duration": 21,
    "start_time": "2024-07-16T21:42:38.979Z"
   },
   {
    "duration": 6,
    "start_time": "2024-07-16T21:42:39.014Z"
   },
   {
    "duration": 14,
    "start_time": "2024-07-16T21:42:39.054Z"
   },
   {
    "duration": 14,
    "start_time": "2024-07-16T21:42:39.087Z"
   },
   {
    "duration": 9,
    "start_time": "2024-07-16T21:42:39.121Z"
   },
   {
    "duration": 14,
    "start_time": "2024-07-16T21:42:39.242Z"
   },
   {
    "duration": 6,
    "start_time": "2024-07-16T21:42:39.286Z"
   },
   {
    "duration": 6,
    "start_time": "2024-07-16T21:42:39.337Z"
   },
   {
    "duration": 7,
    "start_time": "2024-07-16T21:42:39.383Z"
   },
   {
    "duration": 6,
    "start_time": "2024-07-16T21:42:39.447Z"
   },
   {
    "duration": 8,
    "start_time": "2024-07-16T21:42:39.476Z"
   },
   {
    "duration": 7,
    "start_time": "2024-07-16T21:42:39.506Z"
   },
   {
    "duration": 11,
    "start_time": "2024-07-16T21:42:39.564Z"
   },
   {
    "duration": 6,
    "start_time": "2024-07-16T21:42:39.636Z"
   },
   {
    "duration": 7,
    "start_time": "2024-07-16T21:42:39.682Z"
   },
   {
    "duration": 192,
    "start_time": "2024-07-16T21:42:39.709Z"
   },
   {
    "duration": 5,
    "start_time": "2024-07-16T21:42:39.903Z"
   },
   {
    "duration": 47,
    "start_time": "2024-07-16T21:42:39.910Z"
   },
   {
    "duration": 126,
    "start_time": "2024-07-16T21:42:39.959Z"
   },
   {
    "duration": 6,
    "start_time": "2024-07-16T21:42:40.086Z"
   },
   {
    "duration": 19,
    "start_time": "2024-07-16T21:42:40.093Z"
   },
   {
    "duration": 12,
    "start_time": "2024-07-16T21:42:40.113Z"
   },
   {
    "duration": 175,
    "start_time": "2024-07-16T21:42:40.127Z"
   },
   {
    "duration": 201,
    "start_time": "2024-07-16T21:42:40.304Z"
   },
   {
    "duration": 7,
    "start_time": "2024-07-16T21:42:40.506Z"
   },
   {
    "duration": 209,
    "start_time": "2024-07-16T21:42:40.515Z"
   },
   {
    "duration": 12,
    "start_time": "2024-07-16T21:42:40.726Z"
   },
   {
    "duration": 12,
    "start_time": "2024-07-16T21:42:41.085Z"
   },
   {
    "duration": 7,
    "start_time": "2024-07-16T21:42:41.441Z"
   },
   {
    "duration": 10,
    "start_time": "2024-07-16T21:42:41.627Z"
   },
   {
    "duration": 5,
    "start_time": "2024-07-16T21:42:41.826Z"
   },
   {
    "duration": 11,
    "start_time": "2024-07-16T21:42:41.994Z"
   },
   {
    "duration": 185,
    "start_time": "2024-07-16T21:42:42.349Z"
   },
   {
    "duration": 207,
    "start_time": "2024-07-16T21:42:42.544Z"
   },
   {
    "duration": 179,
    "start_time": "2024-07-16T21:42:42.960Z"
   },
   {
    "duration": 187,
    "start_time": "2024-07-16T21:42:43.188Z"
   },
   {
    "duration": 11,
    "start_time": "2024-07-16T21:42:44.074Z"
   },
   {
    "duration": 4,
    "start_time": "2024-07-16T21:42:44.349Z"
   },
   {
    "duration": 8,
    "start_time": "2024-07-16T21:42:45.070Z"
   },
   {
    "duration": 23,
    "start_time": "2024-07-16T21:42:45.461Z"
   },
   {
    "duration": 11,
    "start_time": "2024-07-16T21:42:45.858Z"
   },
   {
    "duration": 4,
    "start_time": "2024-07-16T21:42:46.187Z"
   },
   {
    "duration": 5,
    "start_time": "2024-07-16T21:42:46.943Z"
   },
   {
    "duration": 27,
    "start_time": "2024-07-16T21:42:47.640Z"
   },
   {
    "duration": 19,
    "start_time": "2024-07-16T21:42:48.261Z"
   },
   {
    "duration": 18,
    "start_time": "2024-07-16T21:42:48.684Z"
   },
   {
    "duration": 5,
    "start_time": "2024-07-16T21:42:50.617Z"
   },
   {
    "duration": 17,
    "start_time": "2024-07-16T21:45:13.446Z"
   },
   {
    "duration": 9,
    "start_time": "2024-07-16T21:45:47.712Z"
   },
   {
    "duration": 5,
    "start_time": "2024-07-16T21:46:13.426Z"
   },
   {
    "duration": 5,
    "start_time": "2024-07-16T21:46:23.654Z"
   },
   {
    "duration": 80,
    "start_time": "2024-07-16T21:51:10.279Z"
   },
   {
    "duration": 7,
    "start_time": "2024-07-16T21:51:21.294Z"
   },
   {
    "duration": 5,
    "start_time": "2024-07-16T21:51:28.363Z"
   },
   {
    "duration": 8,
    "start_time": "2024-07-16T21:58:42.439Z"
   },
   {
    "duration": 839,
    "start_time": "2024-07-17T04:28:15.075Z"
   },
   {
    "duration": 345,
    "start_time": "2024-07-17T04:28:15.916Z"
   },
   {
    "duration": 13,
    "start_time": "2024-07-17T04:28:16.263Z"
   },
   {
    "duration": 7,
    "start_time": "2024-07-17T04:28:16.278Z"
   },
   {
    "duration": 6,
    "start_time": "2024-07-17T04:28:16.287Z"
   },
   {
    "duration": 19,
    "start_time": "2024-07-17T04:28:16.294Z"
   },
   {
    "duration": 9,
    "start_time": "2024-07-17T04:28:16.315Z"
   },
   {
    "duration": 8,
    "start_time": "2024-07-17T04:28:16.326Z"
   },
   {
    "duration": 14,
    "start_time": "2024-07-17T04:28:16.335Z"
   },
   {
    "duration": 5,
    "start_time": "2024-07-17T04:28:16.350Z"
   },
   {
    "duration": 30,
    "start_time": "2024-07-17T04:28:16.356Z"
   },
   {
    "duration": 5,
    "start_time": "2024-07-17T04:28:16.387Z"
   },
   {
    "duration": 5,
    "start_time": "2024-07-17T04:28:16.394Z"
   },
   {
    "duration": 7,
    "start_time": "2024-07-17T04:28:16.403Z"
   },
   {
    "duration": 5,
    "start_time": "2024-07-17T04:28:16.411Z"
   },
   {
    "duration": 7,
    "start_time": "2024-07-17T04:28:16.417Z"
   },
   {
    "duration": 4,
    "start_time": "2024-07-17T04:28:16.426Z"
   },
   {
    "duration": 5,
    "start_time": "2024-07-17T04:28:16.431Z"
   },
   {
    "duration": 601,
    "start_time": "2024-07-17T04:28:16.437Z"
   },
   {
    "duration": 6,
    "start_time": "2024-07-17T04:28:17.040Z"
   },
   {
    "duration": 10,
    "start_time": "2024-07-17T04:28:17.048Z"
   },
   {
    "duration": 107,
    "start_time": "2024-07-17T04:28:17.060Z"
   },
   {
    "duration": 14,
    "start_time": "2024-07-17T04:28:17.169Z"
   },
   {
    "duration": 9,
    "start_time": "2024-07-17T04:28:17.184Z"
   },
   {
    "duration": 20,
    "start_time": "2024-07-17T04:28:17.195Z"
   },
   {
    "duration": 167,
    "start_time": "2024-07-17T04:28:17.216Z"
   },
   {
    "duration": 198,
    "start_time": "2024-07-17T04:28:17.384Z"
   },
   {
    "duration": 8,
    "start_time": "2024-07-17T04:28:17.583Z"
   },
   {
    "duration": 206,
    "start_time": "2024-07-17T04:28:17.592Z"
   },
   {
    "duration": 8,
    "start_time": "2024-07-17T04:28:17.799Z"
   },
   {
    "duration": 12,
    "start_time": "2024-07-17T04:28:17.809Z"
   },
   {
    "duration": 6,
    "start_time": "2024-07-17T04:28:17.822Z"
   },
   {
    "duration": 11,
    "start_time": "2024-07-17T04:28:17.829Z"
   },
   {
    "duration": 4,
    "start_time": "2024-07-17T04:28:17.842Z"
   },
   {
    "duration": 39,
    "start_time": "2024-07-17T04:28:17.848Z"
   },
   {
    "duration": 189,
    "start_time": "2024-07-17T04:28:17.888Z"
   },
   {
    "duration": 204,
    "start_time": "2024-07-17T04:28:18.081Z"
   },
   {
    "duration": 160,
    "start_time": "2024-07-17T04:28:18.286Z"
   },
   {
    "duration": 177,
    "start_time": "2024-07-17T04:28:18.447Z"
   },
   {
    "duration": 10,
    "start_time": "2024-07-17T04:28:18.625Z"
   },
   {
    "duration": 3,
    "start_time": "2024-07-17T04:28:18.638Z"
   },
   {
    "duration": 8,
    "start_time": "2024-07-17T04:28:18.642Z"
   },
   {
    "duration": 36,
    "start_time": "2024-07-17T04:28:18.651Z"
   },
   {
    "duration": 10,
    "start_time": "2024-07-17T04:28:18.688Z"
   },
   {
    "duration": 3,
    "start_time": "2024-07-17T04:28:18.700Z"
   },
   {
    "duration": 4,
    "start_time": "2024-07-17T04:28:18.704Z"
   },
   {
    "duration": 18,
    "start_time": "2024-07-17T04:28:18.710Z"
   },
   {
    "duration": 114,
    "start_time": "2024-07-17T04:28:18.729Z"
   },
   {
    "duration": 17,
    "start_time": "2024-07-17T04:28:18.845Z"
   },
   {
    "duration": 19,
    "start_time": "2024-07-17T04:28:18.863Z"
   },
   {
    "duration": 29,
    "start_time": "2024-07-17T04:28:18.884Z"
   },
   {
    "duration": 5,
    "start_time": "2024-07-17T04:28:18.914Z"
   },
   {
    "duration": 25,
    "start_time": "2024-07-17T04:28:18.920Z"
   },
   {
    "duration": 57,
    "start_time": "2024-07-17T16:42:27.283Z"
   },
   {
    "duration": 811,
    "start_time": "2024-07-17T16:42:32.514Z"
   },
   {
    "duration": 350,
    "start_time": "2024-07-17T16:42:33.327Z"
   },
   {
    "duration": 20,
    "start_time": "2024-07-17T16:42:33.679Z"
   },
   {
    "duration": 8,
    "start_time": "2024-07-17T16:42:33.701Z"
   },
   {
    "duration": 6,
    "start_time": "2024-07-17T16:42:33.711Z"
   },
   {
    "duration": 11,
    "start_time": "2024-07-17T16:42:33.718Z"
   },
   {
    "duration": 9,
    "start_time": "2024-07-17T16:42:33.730Z"
   },
   {
    "duration": 9,
    "start_time": "2024-07-17T16:42:33.741Z"
   },
   {
    "duration": 75,
    "start_time": "2024-07-17T16:42:33.751Z"
   },
   {
    "duration": 6,
    "start_time": "2024-07-17T16:42:33.827Z"
   },
   {
    "duration": 12,
    "start_time": "2024-07-17T16:42:33.835Z"
   },
   {
    "duration": 6,
    "start_time": "2024-07-17T16:42:33.849Z"
   },
   {
    "duration": 6,
    "start_time": "2024-07-17T16:42:33.857Z"
   },
   {
    "duration": 9,
    "start_time": "2024-07-17T16:42:33.867Z"
   },
   {
    "duration": 14,
    "start_time": "2024-07-17T16:42:33.878Z"
   },
   {
    "duration": 8,
    "start_time": "2024-07-17T16:42:33.895Z"
   },
   {
    "duration": 4,
    "start_time": "2024-07-17T16:42:33.904Z"
   },
   {
    "duration": 5,
    "start_time": "2024-07-17T16:42:33.910Z"
   },
   {
    "duration": 584,
    "start_time": "2024-07-17T16:42:33.917Z"
   },
   {
    "duration": 5,
    "start_time": "2024-07-17T16:42:34.502Z"
   },
   {
    "duration": 13,
    "start_time": "2024-07-17T16:42:34.508Z"
   },
   {
    "duration": 102,
    "start_time": "2024-07-17T16:42:34.523Z"
   },
   {
    "duration": 5,
    "start_time": "2024-07-17T16:42:34.627Z"
   },
   {
    "duration": 5,
    "start_time": "2024-07-17T16:42:34.633Z"
   },
   {
    "duration": 7,
    "start_time": "2024-07-17T16:42:34.639Z"
   },
   {
    "duration": 184,
    "start_time": "2024-07-17T16:42:34.648Z"
   },
   {
    "duration": 200,
    "start_time": "2024-07-17T16:42:34.833Z"
   },
   {
    "duration": 7,
    "start_time": "2024-07-17T16:42:35.034Z"
   },
   {
    "duration": 203,
    "start_time": "2024-07-17T16:42:35.043Z"
   },
   {
    "duration": 8,
    "start_time": "2024-07-17T16:42:35.248Z"
   },
   {
    "duration": 39,
    "start_time": "2024-07-17T16:42:35.257Z"
   },
   {
    "duration": 11,
    "start_time": "2024-07-17T16:42:35.297Z"
   },
   {
    "duration": 13,
    "start_time": "2024-07-17T16:42:35.309Z"
   },
   {
    "duration": 5,
    "start_time": "2024-07-17T16:42:35.323Z"
   },
   {
    "duration": 15,
    "start_time": "2024-07-17T16:42:35.329Z"
   },
   {
    "duration": 4,
    "start_time": "2024-07-17T16:42:35.346Z"
   },
   {
    "duration": 38,
    "start_time": "2024-07-17T16:42:35.351Z"
   },
   {
    "duration": 200,
    "start_time": "2024-07-17T16:42:35.390Z"
   },
   {
    "duration": 214,
    "start_time": "2024-07-17T16:42:35.594Z"
   },
   {
    "duration": 195,
    "start_time": "2024-07-17T16:42:35.809Z"
   },
   {
    "duration": 189,
    "start_time": "2024-07-17T16:42:36.007Z"
   },
   {
    "duration": 10,
    "start_time": "2024-07-17T16:42:36.197Z"
   },
   {
    "duration": 3,
    "start_time": "2024-07-17T16:42:36.208Z"
   },
   {
    "duration": 15,
    "start_time": "2024-07-17T16:42:36.212Z"
   },
   {
    "duration": 28,
    "start_time": "2024-07-17T16:42:36.228Z"
   },
   {
    "duration": 9,
    "start_time": "2024-07-17T16:42:36.257Z"
   },
   {
    "duration": 15,
    "start_time": "2024-07-17T16:42:36.267Z"
   },
   {
    "duration": 5,
    "start_time": "2024-07-17T16:42:36.284Z"
   },
   {
    "duration": 77,
    "start_time": "2024-07-17T16:42:36.294Z"
   },
   {
    "duration": 29,
    "start_time": "2024-07-17T16:42:36.373Z"
   },
   {
    "duration": 16,
    "start_time": "2024-07-17T16:42:36.404Z"
   },
   {
    "duration": 4,
    "start_time": "2024-07-17T16:42:36.422Z"
   },
   {
    "duration": 29,
    "start_time": "2024-07-17T16:42:36.428Z"
   },
   {
    "duration": 9,
    "start_time": "2024-07-17T16:42:36.458Z"
   },
   {
    "duration": 18,
    "start_time": "2024-07-17T16:42:36.468Z"
   },
   {
    "duration": 3,
    "start_time": "2024-07-17T16:45:21.458Z"
   },
   {
    "duration": 19,
    "start_time": "2024-07-17T16:45:27.255Z"
   },
   {
    "duration": 3,
    "start_time": "2024-07-17T16:53:09.996Z"
   },
   {
    "duration": 244,
    "start_time": "2024-07-17T17:02:21.948Z"
   },
   {
    "duration": 151,
    "start_time": "2024-07-17T17:03:05.043Z"
   },
   {
    "duration": 151,
    "start_time": "2024-07-17T17:03:30.943Z"
   },
   {
    "duration": 168,
    "start_time": "2024-07-17T17:04:00.587Z"
   },
   {
    "duration": 94,
    "start_time": "2024-07-17T17:04:30.380Z"
   },
   {
    "duration": 150,
    "start_time": "2024-07-17T17:05:21.299Z"
   },
   {
    "duration": 152,
    "start_time": "2024-07-17T17:06:54.847Z"
   },
   {
    "duration": 147,
    "start_time": "2024-07-17T17:07:48.780Z"
   },
   {
    "duration": 840,
    "start_time": "2024-07-17T17:30:33.682Z"
   },
   {
    "duration": 68,
    "start_time": "2024-07-17T17:30:34.524Z"
   },
   {
    "duration": 13,
    "start_time": "2024-07-17T17:30:34.593Z"
   },
   {
    "duration": 7,
    "start_time": "2024-07-17T17:30:34.608Z"
   },
   {
    "duration": 9,
    "start_time": "2024-07-17T17:30:34.617Z"
   },
   {
    "duration": 21,
    "start_time": "2024-07-17T17:30:34.627Z"
   },
   {
    "duration": 14,
    "start_time": "2024-07-17T17:30:34.649Z"
   },
   {
    "duration": 8,
    "start_time": "2024-07-17T17:30:34.665Z"
   },
   {
    "duration": 24,
    "start_time": "2024-07-17T17:30:34.675Z"
   },
   {
    "duration": 5,
    "start_time": "2024-07-17T17:30:34.702Z"
   },
   {
    "duration": 12,
    "start_time": "2024-07-17T17:30:34.708Z"
   },
   {
    "duration": 9,
    "start_time": "2024-07-17T17:30:34.721Z"
   },
   {
    "duration": 5,
    "start_time": "2024-07-17T17:30:34.732Z"
   },
   {
    "duration": 9,
    "start_time": "2024-07-17T17:30:34.739Z"
   },
   {
    "duration": 7,
    "start_time": "2024-07-17T17:30:34.750Z"
   },
   {
    "duration": 33,
    "start_time": "2024-07-17T17:30:34.758Z"
   },
   {
    "duration": 14,
    "start_time": "2024-07-17T17:30:34.793Z"
   },
   {
    "duration": 12,
    "start_time": "2024-07-17T17:30:34.809Z"
   },
   {
    "duration": 423,
    "start_time": "2024-07-17T17:30:34.822Z"
   },
   {
    "duration": 5,
    "start_time": "2024-07-17T17:30:35.247Z"
   },
   {
    "duration": 7,
    "start_time": "2024-07-17T17:30:35.253Z"
   },
   {
    "duration": 115,
    "start_time": "2024-07-17T17:30:35.261Z"
   },
   {
    "duration": 11,
    "start_time": "2024-07-17T17:30:35.377Z"
   },
   {
    "duration": 7,
    "start_time": "2024-07-17T17:30:35.389Z"
   },
   {
    "duration": 21,
    "start_time": "2024-07-17T17:30:35.397Z"
   },
   {
    "duration": 170,
    "start_time": "2024-07-17T17:30:35.420Z"
   },
   {
    "duration": 240,
    "start_time": "2024-07-17T17:30:35.592Z"
   },
   {
    "duration": 8,
    "start_time": "2024-07-17T17:30:35.835Z"
   },
   {
    "duration": 210,
    "start_time": "2024-07-17T17:30:35.844Z"
   },
   {
    "duration": 7,
    "start_time": "2024-07-17T17:30:36.055Z"
   },
   {
    "duration": 44,
    "start_time": "2024-07-17T17:30:36.064Z"
   },
   {
    "duration": 13,
    "start_time": "2024-07-17T17:30:36.109Z"
   },
   {
    "duration": 14,
    "start_time": "2024-07-17T17:30:36.123Z"
   },
   {
    "duration": 6,
    "start_time": "2024-07-17T17:30:36.138Z"
   },
   {
    "duration": 11,
    "start_time": "2024-07-17T17:30:36.145Z"
   },
   {
    "duration": 5,
    "start_time": "2024-07-17T17:30:36.157Z"
   },
   {
    "duration": 31,
    "start_time": "2024-07-17T17:30:36.163Z"
   },
   {
    "duration": 183,
    "start_time": "2024-07-17T17:30:36.195Z"
   },
   {
    "duration": 189,
    "start_time": "2024-07-17T17:30:36.384Z"
   },
   {
    "duration": 168,
    "start_time": "2024-07-17T17:30:36.574Z"
   },
   {
    "duration": 188,
    "start_time": "2024-07-17T17:30:36.743Z"
   },
   {
    "duration": 10,
    "start_time": "2024-07-17T17:30:36.933Z"
   },
   {
    "duration": 3,
    "start_time": "2024-07-17T17:30:36.944Z"
   },
   {
    "duration": 12,
    "start_time": "2024-07-17T17:30:36.948Z"
   },
   {
    "duration": 33,
    "start_time": "2024-07-17T17:30:36.962Z"
   },
   {
    "duration": 9,
    "start_time": "2024-07-17T17:30:36.997Z"
   },
   {
    "duration": 20,
    "start_time": "2024-07-17T17:30:37.008Z"
   },
   {
    "duration": 4,
    "start_time": "2024-07-17T17:30:37.029Z"
   },
   {
    "duration": 28,
    "start_time": "2024-07-17T17:30:37.034Z"
   },
   {
    "duration": 18,
    "start_time": "2024-07-17T17:30:37.063Z"
   },
   {
    "duration": 17,
    "start_time": "2024-07-17T17:30:37.083Z"
   },
   {
    "duration": 3,
    "start_time": "2024-07-17T17:30:37.101Z"
   },
   {
    "duration": 21,
    "start_time": "2024-07-17T17:30:37.105Z"
   },
   {
    "duration": 5,
    "start_time": "2024-07-17T17:30:37.127Z"
   },
   {
    "duration": 15,
    "start_time": "2024-07-17T17:30:37.133Z"
   },
   {
    "duration": 12,
    "start_time": "2024-07-17T17:30:37.150Z"
   },
   {
    "duration": 26,
    "start_time": "2024-07-17T17:30:37.163Z"
   },
   {
    "duration": 1181,
    "start_time": "2024-07-17T18:37:44.397Z"
   },
   {
    "duration": 93,
    "start_time": "2024-07-17T18:38:37.842Z"
   },
   {
    "duration": 1015,
    "start_time": "2024-07-17T18:38:44.586Z"
   },
   {
    "duration": 321,
    "start_time": "2024-07-17T18:38:45.603Z"
   },
   {
    "duration": 11,
    "start_time": "2024-07-17T18:38:45.925Z"
   },
   {
    "duration": 15,
    "start_time": "2024-07-17T18:38:45.937Z"
   },
   {
    "duration": 7,
    "start_time": "2024-07-17T18:38:45.954Z"
   },
   {
    "duration": 11,
    "start_time": "2024-07-17T18:38:45.962Z"
   },
   {
    "duration": 12,
    "start_time": "2024-07-17T18:38:45.974Z"
   },
   {
    "duration": 8,
    "start_time": "2024-07-17T18:38:45.987Z"
   },
   {
    "duration": 22,
    "start_time": "2024-07-17T18:38:45.997Z"
   },
   {
    "duration": 5,
    "start_time": "2024-07-17T18:38:46.020Z"
   },
   {
    "duration": 23,
    "start_time": "2024-07-17T18:38:46.026Z"
   },
   {
    "duration": 5,
    "start_time": "2024-07-17T18:38:46.050Z"
   },
   {
    "duration": 4,
    "start_time": "2024-07-17T18:38:46.057Z"
   },
   {
    "duration": 7,
    "start_time": "2024-07-17T18:38:46.064Z"
   },
   {
    "duration": 4,
    "start_time": "2024-07-17T18:38:46.073Z"
   },
   {
    "duration": 6,
    "start_time": "2024-07-17T18:38:46.078Z"
   },
   {
    "duration": 3,
    "start_time": "2024-07-17T18:38:46.085Z"
   },
   {
    "duration": 6,
    "start_time": "2024-07-17T18:38:46.111Z"
   },
   {
    "duration": 190,
    "start_time": "2024-07-17T18:38:46.118Z"
   },
   {
    "duration": 5,
    "start_time": "2024-07-17T18:38:46.310Z"
   },
   {
    "duration": 17,
    "start_time": "2024-07-17T18:38:46.316Z"
   },
   {
    "duration": 125,
    "start_time": "2024-07-17T18:38:46.334Z"
   },
   {
    "duration": 5,
    "start_time": "2024-07-17T18:38:46.460Z"
   },
   {
    "duration": 8,
    "start_time": "2024-07-17T18:38:46.467Z"
   },
   {
    "duration": 17,
    "start_time": "2024-07-17T18:38:46.476Z"
   },
   {
    "duration": 182,
    "start_time": "2024-07-17T18:38:46.494Z"
   },
   {
    "duration": 192,
    "start_time": "2024-07-17T18:38:46.678Z"
   },
   {
    "duration": 7,
    "start_time": "2024-07-17T18:38:46.872Z"
   },
   {
    "duration": 213,
    "start_time": "2024-07-17T18:38:46.880Z"
   },
   {
    "duration": 18,
    "start_time": "2024-07-17T18:38:47.095Z"
   },
   {
    "duration": 50,
    "start_time": "2024-07-17T18:38:47.115Z"
   },
   {
    "duration": 11,
    "start_time": "2024-07-17T18:38:47.166Z"
   },
   {
    "duration": 14,
    "start_time": "2024-07-17T18:38:47.178Z"
   },
   {
    "duration": 6,
    "start_time": "2024-07-17T18:38:47.193Z"
   },
   {
    "duration": 10,
    "start_time": "2024-07-17T18:38:47.200Z"
   },
   {
    "duration": 7,
    "start_time": "2024-07-17T18:38:47.211Z"
   },
   {
    "duration": 11,
    "start_time": "2024-07-17T18:38:47.219Z"
   },
   {
    "duration": 181,
    "start_time": "2024-07-17T18:38:47.231Z"
   },
   {
    "duration": 184,
    "start_time": "2024-07-17T18:38:47.413Z"
   },
   {
    "duration": 164,
    "start_time": "2024-07-17T18:38:47.598Z"
   },
   {
    "duration": 185,
    "start_time": "2024-07-17T18:38:47.766Z"
   },
   {
    "duration": 9,
    "start_time": "2024-07-17T18:38:47.952Z"
   },
   {
    "duration": 3,
    "start_time": "2024-07-17T18:38:47.963Z"
   },
   {
    "duration": 7,
    "start_time": "2024-07-17T18:38:47.967Z"
   },
   {
    "duration": 38,
    "start_time": "2024-07-17T18:38:47.976Z"
   },
   {
    "duration": 10,
    "start_time": "2024-07-17T18:38:48.015Z"
   },
   {
    "duration": 5,
    "start_time": "2024-07-17T18:38:48.027Z"
   },
   {
    "duration": 3,
    "start_time": "2024-07-17T18:38:48.034Z"
   },
   {
    "duration": 23,
    "start_time": "2024-07-17T18:38:48.038Z"
   },
   {
    "duration": 16,
    "start_time": "2024-07-17T18:38:48.062Z"
   },
   {
    "duration": 33,
    "start_time": "2024-07-17T18:38:48.080Z"
   },
   {
    "duration": 3,
    "start_time": "2024-07-17T18:38:48.115Z"
   },
   {
    "duration": 24,
    "start_time": "2024-07-17T18:38:48.120Z"
   },
   {
    "duration": 5,
    "start_time": "2024-07-17T18:38:48.145Z"
   },
   {
    "duration": 17,
    "start_time": "2024-07-17T18:38:48.151Z"
   },
   {
    "duration": 4,
    "start_time": "2024-07-17T18:38:48.169Z"
   },
   {
    "duration": 37,
    "start_time": "2024-07-17T18:38:48.175Z"
   },
   {
    "duration": 197,
    "start_time": "2024-07-17T18:39:24.385Z"
   },
   {
    "duration": 247,
    "start_time": "2024-07-17T18:39:53.667Z"
   },
   {
    "duration": 198,
    "start_time": "2024-07-17T18:40:20.622Z"
   },
   {
    "duration": 205,
    "start_time": "2024-07-17T18:40:39.201Z"
   },
   {
    "duration": 178,
    "start_time": "2024-07-17T18:40:50.619Z"
   },
   {
    "duration": 194,
    "start_time": "2024-07-17T18:41:10.801Z"
   }
  ],
  "kernelspec": {
   "display_name": "Python 3 (ipykernel)",
   "language": "python",
   "name": "python3"
  },
  "language_info": {
   "codemirror_mode": {
    "name": "ipython",
    "version": 3
   },
   "file_extension": ".py",
   "mimetype": "text/x-python",
   "name": "python",
   "nbconvert_exporter": "python",
   "pygments_lexer": "ipython3",
   "version": "3.11.9"
  },
  "toc": {
   "base_numbering": 1,
   "nav_menu": {},
   "number_sections": true,
   "sideBar": true,
   "skip_h1_title": true,
   "title_cell": "Table of Contents",
   "title_sidebar": "Contents",
   "toc_cell": false,
   "toc_position": {},
   "toc_section_display": true,
   "toc_window_display": false
  }
 },
 "nbformat": 4,
 "nbformat_minor": 5
}
